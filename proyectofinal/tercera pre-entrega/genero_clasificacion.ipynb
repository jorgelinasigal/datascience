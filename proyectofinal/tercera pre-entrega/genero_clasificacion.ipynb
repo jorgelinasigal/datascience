{
 "cells": [
  {
   "cell_type": "code",
   "execution_count": null,
   "id": "14baee76",
   "metadata": {},
   "outputs": [],
   "source": [
    "import pandas as pd\n",
    "import numpy as np\n",
    "import matplotlib.pyplot as plt\n",
    "import seaborn as sns\n",
    "from sklearn.model_selection import train_test_split\n",
    "from sklearn.preprocessing import LabelEncoder, StandardScaler\n",
    "from sklearn.linear_model import LogisticRegression\n",
    "from sklearn.metrics import classification_report, confusion_matrix, accuracy_score, mean_squared_error\n",
    "from sklearn.model_selection import GridSearchCV"
   ]
  },
  {
   "cell_type": "markdown",
   "id": "c2de9f86",
   "metadata": {},
   "source": [
    "## Análisis y exploración de datos"
   ]
  },
  {
   "cell_type": "code",
   "execution_count": null,
   "id": "68757393",
   "metadata": {},
   "outputs": [],
   "source": [
    "remuneraciones = pd.read_csv('Remuneraciones.csv', header=0, skiprows=[1])"
   ]
  },
  {
   "cell_type": "code",
   "execution_count": null,
   "id": "d8959056",
   "metadata": {},
   "outputs": [],
   "source": [
    "# Vista general del dataset\n",
    "print(remuneraciones.head())"
   ]
  },
  {
   "cell_type": "code",
   "execution_count": null,
   "id": "511ce7ec",
   "metadata": {},
   "outputs": [],
   "source": [
    "# Asigna nombres de columna\n",
    "remuneraciones.columns = ['Periodo', 'Industria', 'Genero', 'Valor']\n",
    "# Comprueba que ya existan los nombres\n",
    "print(remuneraciones.columns)"
   ]
  },
  {
   "cell_type": "code",
   "execution_count": null,
   "id": "beb4838e",
   "metadata": {},
   "outputs": [],
   "source": [
    "# Eliminar las columnas que no se usaran\n",
    "remuneraciones = remuneraciones[['Valor', 'Genero']].dropna()"
   ]
  },
  {
   "cell_type": "code",
   "execution_count": null,
   "id": "0336c561",
   "metadata": {},
   "outputs": [],
   "source": [
    "remuneraciones.isnull().sum()"
   ]
  },
  {
   "cell_type": "markdown",
   "id": "a83c8c68",
   "metadata": {},
   "source": [
    "## Procesamiento y transformación de datos"
   ]
  },
  {
   "cell_type": "code",
   "execution_count": null,
   "id": "b76bdeba",
   "metadata": {},
   "outputs": [],
   "source": [
    "#NO necesito codificar (labelencoder) variable target (genero). ya esta codificada\n",
    "remuneraciones[\"y\"] = (remuneraciones[\"Genero\"])"
   ]
  },
  {
   "cell_type": "code",
   "execution_count": null,
   "id": "2d4210f0",
   "metadata": {},
   "outputs": [],
   "source": [
    "#Separar X e y\n",
    "X = remuneraciones.drop(columns=[\"Genero\",\"y\"])\n",
    "y = remuneraciones[\"y\"]"
   ]
  },
  {
   "cell_type": "code",
   "execution_count": null,
   "id": "f93fbed0",
   "metadata": {},
   "outputs": [],
   "source": [
    "#Escalado de la variable numérica\n",
    "scaler = StandardScaler()\n",
    "X = scaler.fit_transform(remuneraciones[['Valor']])\n",
    "y = remuneraciones['Genero']"
   ]
  },
  {
   "cell_type": "code",
   "execution_count": null,
   "id": "4fecb38a",
   "metadata": {},
   "outputs": [],
   "source": [
    "#Division del modelo\n",
    "X_train, X_test, y_train, y_test = train_test_split(\n",
    "    X, y, test_size=0.2, stratify=y, random_state=42\n",
    ")"
   ]
  },
  {
   "cell_type": "code",
   "execution_count": null,
   "id": "92f55c81",
   "metadata": {},
   "outputs": [],
   "source": [
    "# Etapa de entrenamiento\n",
    "model = LogisticRegression()\n",
    "model.fit(X_train, y_train)"
   ]
  },
  {
   "cell_type": "code",
   "execution_count": null,
   "id": "166e0c9a",
   "metadata": {},
   "outputs": [],
   "source": [
    "# Prediccion y evaluacion\n",
    "y_pred = model.predict(X_test)\n",
    "\n",
    "print(classification_report(y_test, y_pred))"
   ]
  }
 ],
 "metadata": {
  "kernelspec": {
   "display_name": "Python 3",
   "language": "python",
   "name": "python3"
  },
  "language_info": {
   "name": "python",
   "version": "3.13.3"
  }
 },
 "nbformat": 4,
 "nbformat_minor": 5
}
