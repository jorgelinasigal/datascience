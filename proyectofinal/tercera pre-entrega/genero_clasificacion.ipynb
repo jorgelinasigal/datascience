{
 "cells": [
  {
   "cell_type": "markdown",
   "id": "180e4900",
   "metadata": {},
   "source": [
    "# Brecha Salarial de Género en Argentina\n",
    "Este proyecto fue realizado por el grupo 15 constituido por Daniela Ferraro y Jorgelina Sigal. Se utilizó un conjunto de datos provenientes del Ministerio de Trabajo, Empleo y Seguridad Social que contiene información sobre las remuneraciones en Argentina, desagregadas por género, tipo de industria y fecha. El objetivo es analizar las brechas salariales de género y su evolución. \n",
    "\n",
    "### Dataset\n",
    "https://www.trabajo.gob.ar/estadisticas/oede/empleoyremuneracion.asp\n",
    "\n",
    "### Contenido del dataset\n",
    "#### Periodo: \n",
    "Indica año y mes al que corresponde la remuneración.\n",
    "#### Industria: \n",
    "Nombre del sector o rama de actividad económica.\n",
    "#### Género: \n",
    "Género del grupo de trabajadores al que pertenece la remuneración.\n",
    "#### Mujer: \n",
    "Variable binaria (1 o 0) toma el valor 1 si es mujer, 0 si no. Útil para análisis estadístico, modelos y gráficos.\n",
    "#### Varon: \n",
    "Variable binaria (1 o 0) toma el valor 1 si es varón, 0 si no. Útil para análisis estadístico, modelos y gráficos.\n",
    "#### Remuneración: \n",
    "Remuneración promedio mensual para ese sector, género y período (en pesos argentinos).\n",
    "#### Año:\n",
    "Extracción del año de la columna período.\n",
    "\n",
    "### Objetivo general\n",
    "Analizar la evolución de la remuneración media del empleo registrado en el sector privado en Argentina, según rama de actividad y género, en el período comprendido entre enero de 1996 y octubre de 2022, utilizando herramientas de data science, con el fin de identificar patrones, desigualdades y tendencias vinculadas a la brecha salarial de género en el mundo laboral.\n",
    "\n",
    "### Objetivos específicos\n",
    "- Procesar y limpiar el conjunto de datos proporcionado mediante herramientas de data science, utilizando bibliotecas como pandas para su análisis exploratorio.\n",
    "\n",
    "- Describir la evolución temporal de la remuneración media del empleo registrado en el sector privado, diferenciando por género y rama de actividad (según el CIIU rev. 3 a dos dígitos).\n",
    "\n",
    "- Comparar las trayectorias salariales entre varones y mujeres en los distintos sectores de actividad, identificando las ramas con mayores y menores brechas de género.\n",
    "\n",
    "- Visualizar los resultados mediante gráficos que faciliten la comprensión de las desigualdades salariales en el período analizado.\n",
    "\n",
    "- Aplicar un modelo de aprendizaje supervisado de regresión para predecir la remuneración media en función del género, la rama de actividad y el período, evaluando su desempeño y analizando la importancia relativa de cada variable.\n",
    "\n",
    "- Reflexionar sobre las implicancias sociales y económicas de las desigualdades de género en el mundo laboral formal, a partir de los hallazgos del análisis de datos.\n",
    "\n",
    "### Tecnologías\n",
    "- Python 3\n",
    "- Pandas\n",
    "- Jupyter Notebook\n",
    "- Visual Studio Code\n",
    "- Matplotlib \n",
    "- Seaborn"
   ]
  },
  {
   "cell_type": "code",
   "execution_count": 30,
   "id": "14baee76",
   "metadata": {},
   "outputs": [],
   "source": [
    "import pandas as pd\n",
    "import numpy as np\n",
    "import matplotlib.pyplot as plt\n",
    "import seaborn as sns\n",
    "from sklearn.model_selection import train_test_split, cross_val_score\n",
    "from sklearn.preprocessing import LabelEncoder, StandardScaler\n",
    "from sklearn.ensemble import RandomForestClassifier\n",
    "from sklearn.metrics import classification_report, confusion_matrix, accuracy_score, mean_squared_error, f1_score\n",
    "from sklearn.model_selection import GridSearchCV"
   ]
  },
  {
   "cell_type": "markdown",
   "id": "c2de9f86",
   "metadata": {},
   "source": [
    "## Análisis y exploración de datos"
   ]
  },
  {
   "cell_type": "code",
   "execution_count": 2,
   "id": "68757393",
   "metadata": {},
   "outputs": [],
   "source": [
    "remuneraciones = pd.read_csv('Remuneraciones.csv', header=0, skiprows=[1])"
   ]
  },
  {
   "cell_type": "code",
   "execution_count": 3,
   "id": "d8959056",
   "metadata": {},
   "outputs": [
    {
     "name": "stdout",
     "output_type": "stream",
     "text": [
      "  Periodo                Industria   Genero  Valor\n",
      "0  feb-96  agricultura y ganaderia  Mujeres  406.8\n",
      "1  mar-96  agricultura y ganaderia  Mujeres  399.7\n",
      "2  abr-96  agricultura y ganaderia  Mujeres  375.9\n",
      "3  may-96  agricultura y ganaderia  Mujeres  395.6\n",
      "4  jun-96  agricultura y ganaderia  Mujeres  554.0\n"
     ]
    }
   ],
   "source": [
    "# Vista general del dataset\n",
    "print(remuneraciones.head())"
   ]
  },
  {
   "cell_type": "code",
   "execution_count": 4,
   "id": "c5deffeb",
   "metadata": {},
   "outputs": [
    {
     "name": "stdout",
     "output_type": "stream",
     "text": [
      "Index(['Periodo', 'Industria', 'Genero', 'Valor'], dtype='object')\n"
     ]
    }
   ],
   "source": [
    "print(remuneraciones.columns)"
   ]
  },
  {
   "cell_type": "code",
   "execution_count": 9,
   "id": "23091c80",
   "metadata": {},
   "outputs": [
    {
     "ename": "TypeError",
     "evalue": "Index(...) must be called with a collection of some kind, <bound method StringMethods.strip of <pandas.core.strings.accessor.StringMethods object at 0x00000275A82952B0>> was passed",
     "output_type": "error",
     "traceback": [
      "\u001b[31m---------------------------------------------------------------------------\u001b[39m",
      "\u001b[31mTypeError\u001b[39m                                 Traceback (most recent call last)",
      "\u001b[36mCell\u001b[39m\u001b[36m \u001b[39m\u001b[32mIn[9]\u001b[39m\u001b[32m, line 2\u001b[39m\n\u001b[32m      1\u001b[39m \u001b[38;5;66;03m# Eliminar espacios en nkmbres de columnas\u001b[39;00m\n\u001b[32m----> \u001b[39m\u001b[32m2\u001b[39m \u001b[43mremuneraciones\u001b[49m\u001b[43m.\u001b[49m\u001b[43mcolumns\u001b[49m = remuneraciones.columns.str.strip\n",
      "\u001b[36mFile \u001b[39m\u001b[32mc:\\Users\\jorge\\AppData\\Local\\Programs\\Python\\Python313\\Lib\\site-packages\\pandas\\core\\generic.py:6332\u001b[39m, in \u001b[36mNDFrame.__setattr__\u001b[39m\u001b[34m(self, name, value)\u001b[39m\n\u001b[32m   6330\u001b[39m \u001b[38;5;28;01mtry\u001b[39;00m:\n\u001b[32m   6331\u001b[39m     \u001b[38;5;28mobject\u001b[39m.\u001b[34m__getattribute__\u001b[39m(\u001b[38;5;28mself\u001b[39m, name)\n\u001b[32m-> \u001b[39m\u001b[32m6332\u001b[39m     \u001b[38;5;28;01mreturn\u001b[39;00m \u001b[38;5;28;43mobject\u001b[39;49m\u001b[43m.\u001b[49m\u001b[34;43m__setattr__\u001b[39;49m\u001b[43m(\u001b[49m\u001b[38;5;28;43mself\u001b[39;49m\u001b[43m,\u001b[49m\u001b[43m \u001b[49m\u001b[43mname\u001b[49m\u001b[43m,\u001b[49m\u001b[43m \u001b[49m\u001b[43mvalue\u001b[49m\u001b[43m)\u001b[49m\n\u001b[32m   6333\u001b[39m \u001b[38;5;28;01mexcept\u001b[39;00m \u001b[38;5;167;01mAttributeError\u001b[39;00m:\n\u001b[32m   6334\u001b[39m     \u001b[38;5;28;01mpass\u001b[39;00m\n",
      "\u001b[36mFile \u001b[39m\u001b[32mpandas/_libs/properties.pyx:69\u001b[39m, in \u001b[36mpandas._libs.properties.AxisProperty.__set__\u001b[39m\u001b[34m()\u001b[39m\n",
      "\u001b[36mFile \u001b[39m\u001b[32mc:\\Users\\jorge\\AppData\\Local\\Programs\\Python\\Python313\\Lib\\site-packages\\pandas\\core\\generic.py:813\u001b[39m, in \u001b[36mNDFrame._set_axis\u001b[39m\u001b[34m(self, axis, labels)\u001b[39m\n\u001b[32m    807\u001b[39m \u001b[38;5;129m@final\u001b[39m\n\u001b[32m    808\u001b[39m \u001b[38;5;28;01mdef\u001b[39;00m\u001b[38;5;250m \u001b[39m\u001b[34m_set_axis\u001b[39m(\u001b[38;5;28mself\u001b[39m, axis: AxisInt, labels: AnyArrayLike | \u001b[38;5;28mlist\u001b[39m) -> \u001b[38;5;28;01mNone\u001b[39;00m:\n\u001b[32m    809\u001b[39m \u001b[38;5;250m    \u001b[39m\u001b[33;03m\"\"\"\u001b[39;00m\n\u001b[32m    810\u001b[39m \u001b[33;03m    This is called from the cython code when we set the `index` attribute\u001b[39;00m\n\u001b[32m    811\u001b[39m \u001b[33;03m    directly, e.g. `series.index = [1, 2, 3]`.\u001b[39;00m\n\u001b[32m    812\u001b[39m \u001b[33;03m    \"\"\"\u001b[39;00m\n\u001b[32m--> \u001b[39m\u001b[32m813\u001b[39m     labels = \u001b[43mensure_index\u001b[49m\u001b[43m(\u001b[49m\u001b[43mlabels\u001b[49m\u001b[43m)\u001b[49m\n\u001b[32m    814\u001b[39m     \u001b[38;5;28mself\u001b[39m._mgr.set_axis(axis, labels)\n\u001b[32m    815\u001b[39m     \u001b[38;5;28mself\u001b[39m._clear_item_cache()\n",
      "\u001b[36mFile \u001b[39m\u001b[32mc:\\Users\\jorge\\AppData\\Local\\Programs\\Python\\Python313\\Lib\\site-packages\\pandas\\core\\indexes\\base.py:7715\u001b[39m, in \u001b[36mensure_index\u001b[39m\u001b[34m(index_like, copy)\u001b[39m\n\u001b[32m   7713\u001b[39m         \u001b[38;5;28;01mreturn\u001b[39;00m Index(index_like, copy=copy, tupleize_cols=\u001b[38;5;28;01mFalse\u001b[39;00m)\n\u001b[32m   7714\u001b[39m \u001b[38;5;28;01melse\u001b[39;00m:\n\u001b[32m-> \u001b[39m\u001b[32m7715\u001b[39m     \u001b[38;5;28;01mreturn\u001b[39;00m \u001b[43mIndex\u001b[49m\u001b[43m(\u001b[49m\u001b[43mindex_like\u001b[49m\u001b[43m,\u001b[49m\u001b[43m \u001b[49m\u001b[43mcopy\u001b[49m\u001b[43m=\u001b[49m\u001b[43mcopy\u001b[49m\u001b[43m)\u001b[49m\n",
      "\u001b[36mFile \u001b[39m\u001b[32mc:\\Users\\jorge\\AppData\\Local\\Programs\\Python\\Python313\\Lib\\site-packages\\pandas\\core\\indexes\\base.py:533\u001b[39m, in \u001b[36mIndex.__new__\u001b[39m\u001b[34m(cls, data, dtype, copy, name, tupleize_cols)\u001b[39m\n\u001b[32m    529\u001b[39m     \u001b[38;5;28;01mreturn\u001b[39;00m \u001b[38;5;28mcls\u001b[39m(np.asarray(data), dtype=dtype, copy=copy, name=name)\n\u001b[32m    530\u001b[39m \u001b[38;5;28;01melif\u001b[39;00m \u001b[38;5;129;01mnot\u001b[39;00m is_list_like(data) \u001b[38;5;129;01mand\u001b[39;00m \u001b[38;5;129;01mnot\u001b[39;00m \u001b[38;5;28misinstance\u001b[39m(data, \u001b[38;5;28mmemoryview\u001b[39m):\n\u001b[32m    531\u001b[39m     \u001b[38;5;66;03m# 2022-11-16 the memoryview check is only necessary on some CI\u001b[39;00m\n\u001b[32m    532\u001b[39m     \u001b[38;5;66;03m#  builds, not clear why\u001b[39;00m\n\u001b[32m--> \u001b[39m\u001b[32m533\u001b[39m     \u001b[38;5;28;01mraise\u001b[39;00m \u001b[38;5;28;43mcls\u001b[39;49m\u001b[43m.\u001b[49m\u001b[43m_raise_scalar_data_error\u001b[49m\u001b[43m(\u001b[49m\u001b[43mdata\u001b[49m\u001b[43m)\u001b[49m\n\u001b[32m    535\u001b[39m \u001b[38;5;28;01melse\u001b[39;00m:\n\u001b[32m    536\u001b[39m     \u001b[38;5;28;01mif\u001b[39;00m tupleize_cols:\n\u001b[32m    537\u001b[39m         \u001b[38;5;66;03m# GH21470: convert iterable to list before determining if empty\u001b[39;00m\n",
      "\u001b[36mFile \u001b[39m\u001b[32mc:\\Users\\jorge\\AppData\\Local\\Programs\\Python\\Python313\\Lib\\site-packages\\pandas\\core\\indexes\\base.py:5299\u001b[39m, in \u001b[36mIndex._raise_scalar_data_error\u001b[39m\u001b[34m(cls, data)\u001b[39m\n\u001b[32m   5294\u001b[39m \u001b[38;5;129m@final\u001b[39m\n\u001b[32m   5295\u001b[39m \u001b[38;5;129m@classmethod\u001b[39m\n\u001b[32m   5296\u001b[39m \u001b[38;5;28;01mdef\u001b[39;00m\u001b[38;5;250m \u001b[39m\u001b[34m_raise_scalar_data_error\u001b[39m(\u001b[38;5;28mcls\u001b[39m, data):\n\u001b[32m   5297\u001b[39m     \u001b[38;5;66;03m# We return the TypeError so that we can raise it from the constructor\u001b[39;00m\n\u001b[32m   5298\u001b[39m     \u001b[38;5;66;03m#  in order to keep mypy happy\u001b[39;00m\n\u001b[32m-> \u001b[39m\u001b[32m5299\u001b[39m     \u001b[38;5;28;01mraise\u001b[39;00m \u001b[38;5;167;01mTypeError\u001b[39;00m(\n\u001b[32m   5300\u001b[39m         \u001b[33mf\u001b[39m\u001b[33m\"\u001b[39m\u001b[38;5;132;01m{\u001b[39;00m\u001b[38;5;28mcls\u001b[39m.\u001b[34m__name__\u001b[39m\u001b[38;5;132;01m}\u001b[39;00m\u001b[33m(...) must be called with a collection of some \u001b[39m\u001b[33m\"\u001b[39m\n\u001b[32m   5301\u001b[39m         \u001b[33mf\u001b[39m\u001b[33m\"\u001b[39m\u001b[33mkind, \u001b[39m\u001b[38;5;132;01m{\u001b[39;00m\u001b[38;5;28mrepr\u001b[39m(data)\u001b[38;5;250m \u001b[39m\u001b[38;5;28;01mif\u001b[39;00m\u001b[38;5;250m \u001b[39m\u001b[38;5;129;01mnot\u001b[39;00m\u001b[38;5;250m \u001b[39m\u001b[38;5;28misinstance\u001b[39m(data,\u001b[38;5;250m \u001b[39mnp.generic)\u001b[38;5;250m \u001b[39m\u001b[38;5;28;01melse\u001b[39;00m\u001b[38;5;250m \u001b[39m\u001b[38;5;28mstr\u001b[39m(data)\u001b[38;5;132;01m}\u001b[39;00m\u001b[33m \u001b[39m\u001b[33m\"\u001b[39m\n\u001b[32m   5302\u001b[39m         \u001b[33m\"\u001b[39m\u001b[33mwas passed\u001b[39m\u001b[33m\"\u001b[39m\n\u001b[32m   5303\u001b[39m     )\n",
      "\u001b[31mTypeError\u001b[39m: Index(...) must be called with a collection of some kind, <bound method StringMethods.strip of <pandas.core.strings.accessor.StringMethods object at 0x00000275A82952B0>> was passed"
     ]
    }
   ],
   "source": [
    "# Eliminar espacios en nkmbres de columnas\n",
    "remuneraciones.columns = remuneraciones.columns.str.strip"
   ]
  },
  {
   "cell_type": "code",
   "execution_count": 5,
   "id": "f9b5a4cd",
   "metadata": {},
   "outputs": [
    {
     "name": "stdout",
     "output_type": "stream",
     "text": [
      "Index(['Periodo', 'Industria', 'Genero', 'Valor'], dtype='object')\n"
     ]
    }
   ],
   "source": [
    "print(remuneraciones.columns)"
   ]
  },
  {
   "cell_type": "markdown",
   "id": "a83c8c68",
   "metadata": {},
   "source": [
    "## Procesamiento y transformación de datos"
   ]
  },
  {
   "cell_type": "markdown",
   "id": "838ecc51",
   "metadata": {},
   "source": [
    "1. Se convirtió el período a una variable numérica continua, útil para que el modelo interprete la evolución temporal y mejore la precisión."
   ]
  },
  {
   "cell_type": "code",
   "execution_count": 6,
   "id": "be2324ca",
   "metadata": {},
   "outputs": [],
   "source": [
    "# Transformacion de la columna Periodo\n",
    "meses = {'ene': 1, 'feb': 2, 'mar': 3, 'abr': 4, 'may': 5, 'jun': 6,\n",
    "         'jul': 7, 'ago': 8, 'sep': 9, 'oct': 10, 'nov': 11, 'dic': 12}\n",
    "\n",
    "remuneraciones[['Mes', 'Año']] = remuneraciones['Periodo'].str.split('-', expand=True)\n",
    "remuneraciones['Mes'] = remuneraciones['Mes'].map(meses)\n",
    "remuneraciones['Año'] = remuneraciones['Año'].astype(int) + 1900\n",
    "remuneraciones['FechaNum'] = remuneraciones['Año'] + remuneraciones['Mes'] / 12"
   ]
  },
  {
   "cell_type": "markdown",
   "id": "98e0a8d7",
   "metadata": {},
   "source": [
    "2. Se codificó Género para convertirla en variable numérica porque los modelos de machine learning no trabajan con texto."
   ]
  },
  {
   "cell_type": "code",
   "execution_count": 7,
   "id": "b76bdeba",
   "metadata": {},
   "outputs": [],
   "source": [
    "# Mujeres = 0, Varones = 1\n",
    "le = LabelEncoder()\n",
    "remuneraciones['Genero'] = le.fit_transform(remuneraciones['Genero'])  "
   ]
  },
  {
   "cell_type": "markdown",
   "id": "d42dccb2",
   "metadata": {},
   "source": [
    "3. Industria se convirtió a variable binaria, una por cada sector. Esto permite que el modelo perciba el sector económico."
   ]
  },
  {
   "cell_type": "code",
   "execution_count": 8,
   "id": "e18a48c5",
   "metadata": {},
   "outputs": [],
   "source": [
    "remuneraciones = pd.get_dummies(remuneraciones, columns=['Industria'], drop_first=True)"
   ]
  },
  {
   "cell_type": "code",
   "execution_count": 9,
   "id": "2d4210f0",
   "metadata": {},
   "outputs": [],
   "source": [
    "#Separar X e y\n",
    "X = remuneraciones.drop(columns=['Periodo', 'Genero', 'Mes', 'Año'])\n",
    "y = remuneraciones['Genero']"
   ]
  },
  {
   "cell_type": "markdown",
   "id": "79ac79f1",
   "metadata": {},
   "source": [
    "4. Se escaló Valor y FechaNum para que tengan igual peso. Esto es importante porque los modelos como Random Forest no se ven afectados, pero otros sí lo necesitan."
   ]
  },
  {
   "cell_type": "code",
   "execution_count": 10,
   "id": "c3d7c842",
   "metadata": {},
   "outputs": [],
   "source": [
    "X_train, X_test, y_train, y_test = train_test_split(X, y, test_size=0.2, random_state=42)\n",
    "\n",
    "scaler = StandardScaler()\n",
    "X_train[['Valor', 'FechaNum']] = scaler.fit_transform(X_train[['Valor', 'FechaNum']])\n",
    "X_test[['Valor', 'FechaNum']] = scaler.transform(X_test[['Valor', 'FechaNum']])"
   ]
  },
  {
   "cell_type": "code",
   "execution_count": 27,
   "id": "a07e8ffc",
   "metadata": {},
   "outputs": [],
   "source": [
    "model = RandomForestClassifier(n_estimators=100, max_depth=10, min_samples_split=10, min_samples_leaf=5,class_weight='balanced', random_state=42)\n",
    "model = RandomForestClassifier(\n",
    "    n_estimators=100,\n",
    "    max_depth=8,                 # limitar profundidad de los árboles\n",
    "    min_samples_split=10,        # mínimo de muestras para dividir\n",
    "    min_samples_leaf=5,          # hojas con mínimo de muestras\n",
    "    max_features='sqrt',         # menos variables al dividir\n",
    "    class_weight='balanced',     # ajusta por clases desbalanceadas\n",
    "    random_state=42,\n",
    "    n_jobs=-1\n",
    ")"
   ]
  },
  {
   "cell_type": "code",
   "execution_count": 32,
   "id": "2b6acfc1",
   "metadata": {},
   "outputs": [
    {
     "name": "stdout",
     "output_type": "stream",
     "text": [
      "Accuracy train: 0.6117146262557467\n",
      "Accuracy test: 0.566058294742577\n",
      "F1-score test: 0.6566070273765898\n"
     ]
    }
   ],
   "source": [
    "model.fit(X_train, y_train)\n",
    "\n",
    "# Evaluación\n",
    "y_pred_train = model.predict(X_train)\n",
    "y_pred_test = model.predict(X_test)\n",
    "\n",
    "# Métricas\n",
    "print(\"Accuracy train:\", accuracy_score(y_train, y_pred_train))\n",
    "print(\"Accuracy test:\", accuracy_score(y_test, y_pred_test))\n",
    "print(\"F1-score test:\", f1_score(y_test,y_pred_test))\n"
   ]
  },
  {
   "cell_type": "code",
   "execution_count": 34,
   "id": "ce9524fd",
   "metadata": {},
   "outputs": [
    {
     "name": "stdout",
     "output_type": "stream",
     "text": [
      "CV accuracy promedio: 0.5666950451217436\n"
     ]
    }
   ],
   "source": [
    "scores = cross_val_score(model, X_train, y_train, cv=5)\n",
    "print(\"CV accuracy promedio:\", scores.mean())"
   ]
  },
  {
   "cell_type": "code",
   "execution_count": 36,
   "id": "fc2d92d4",
   "metadata": {},
   "outputs": [],
   "source": [
    "y_pred = model.predict(X_test)"
   ]
  },
  {
   "cell_type": "code",
   "execution_count": 37,
   "id": "07ccc41c",
   "metadata": {},
   "outputs": [
    {
     "data": {
      "image/png": "[encoded data removed]",
      "text/plain": [
       "<Figure size 640x480 with 2 Axes>"
      ]
     },
     "metadata": {},
     "output_type": "display_data"
    }
   ],
   "source": [
    "# Matriz de confusion\n",
    "sns.heatmap(confusion_matrix(y_test, y_pred), annot=True, fmt='d', cmap='Blues')\n",
    "plt.xlabel(\"Predicción\")\n",
    "plt.ylabel(\"Real\")\n",
    "plt.title(\"Matriz de Confusión\")\n",
    "plt.show()"
   ]
  },
  {
   "cell_type": "markdown",
   "id": "727ddf22",
   "metadata": {},
   "source": [
    "Los resultados arrojaron:\n",
    "- 1110 (Verdaderos Negativos - TN)\n",
    "\n",
    "- 3046 (Verdaderos Positivos - TP)\n",
    "\n",
    "- 2519 (Falsos Positivos - FP)\n",
    "\n",
    "- 667 (Falsos Negativos - FN)\n",
    "\n",
    "- Alto recall (0.82): El modelo es bueno detectanto los casos positivos (clase 1), lo cual es útil si la prioridad es minimizar los falsos negativos, en este caso para no perder casos importantes.\n",
    "\n",
    "- Baja precisión (0.54): Muchos de los que predice como positivos no lo son realmente. Hay muchos falsos positivos.\n",
    "\n",
    "- Accuracy baja (0.56): El modelo no clasifica corectamente una gran parte del conjunto.\n",
    "\n",
    "- F1-score aceptable (0.65): Refleja u balance aceptable entre precisión y recall, pero podría mejorarse."
   ]
  },
  {
   "cell_type": "markdown",
   "id": "51b6035c",
   "metadata": {},
   "source": [
    "Se concluye que: \n",
    "\n",
    "- El modelo intenta aprender patrones en los salarios según sector y período para adivinar si la persona es hombre o mujer.\n",
    "\n",
    "- El hecho de que logre una precisión del 70% sugiere que hay una brecha salarial y/o patrones diferenciados entre géneros que el modelo está captando, pero no de forma determinista (no puede distinguir con certeza absoluta).\n",
    "\n",
    "- El modelo tiene una precisión general del 70% aproximadamente. El desempeño es bastante equilibrado entre ambas clases, aunque hay una cantidad no menor de errores (más de 1000 falsos positivos y más de 1000 falsos negativos). Se podría explorar mejoras ajustando el umbral de decisión o probando otro modelo.\n"
   ]
  },
  {
   "cell_type": "markdown",
   "id": "d052ccb0",
   "metadata": {},
   "source": [
    "## Conclusión\n",
    "El objetivo de este trabajo fue responder a la pregunta:\n",
    "¿Es posible predecir el género de una persona a partir de su remuneración?\n",
    "\n",
    "Desde el comienzo, se sostuvo una postura crítica:\n",
    "*Predecir el género a partir del salario y otras variables económicas puede reforzar estereotipos de género y perpetuar sesgos estructurales existentes. Por ello, esta tarea no debe ser utilizada para decisiones reales sobre individuos, sino como una herramienta de análisis exploratorio que permita visibilizar desigualdades.*\n",
    "\n",
    "Con esta perspectiva, el equipo decidió construir un modelo de clasificación que permitiera poner en práctica los contenidos del curso y cerrar el proyecto con un ejercicio técnico-aplicado.\n",
    "\n",
    "Los resultados obtenidos reflejan que el modelo logra una predicción algo mejor que el azar, pero con limitaciones evidentes en cuanto a generalización y precisión. Si bien es técnicamente posible detectar patrones asociados al género en función de variables como la remuneración, esto en sí mismo es un indicio de la persistencia de brechas salariales y sesgos estructurales.\n",
    "\n",
    "Más allá de la performance del modelo, este ejercicio deja en evidencia que el salario y otras variables laborales están correlacionadas con el género, lo cual no debería suceder en un sistema justo e igualitario.\n",
    "Utilizar herramientas de ciencia de datos en este contexto permite no solo entrenar modelos, sino también generar conciencia sobre las desigualdades que los datos reflejan."
   ]
  }
 ],
 "metadata": {
  "kernelspec": {
   "display_name": "Python 3",
   "language": "python",
   "name": "python3"
  },
  "language_info": {
   "codemirror_mode": {
    "name": "ipython",
    "version": 3
   },
   "file_extension": ".py",
   "mimetype": "text/x-python",
   "name": "python",
   "nbconvert_exporter": "python",
   "pygments_lexer": "ipython3",
   "version": "3.13.5"
  }
 },
 "nbformat": 4,
 "nbformat_minor": 5
}
