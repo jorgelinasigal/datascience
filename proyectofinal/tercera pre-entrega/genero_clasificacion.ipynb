{
 "cells": [
  {
   "cell_type": "markdown",
   "id": "180e4900",
   "metadata": {},
   "source": [
    "# Brecha Salarial de Género en Argentina\n",
    "Este proyecto fue realizado por el grupo 15 constituido por Daniela Ferraro y Jorgelina Sigal. Se utilizó un conjunto de datos provenientes del Ministerio de Trabajo, Empleo y Seguridad Social que contiene información sobre las remuneraciones en Argentina, desagregadas por género, tipo de industria y fecha. El objetivo es analizar las brechas salariales de género y su evolución. \n",
    "\n",
    "### Dataset\n",
    "https://www.trabajo.gob.ar/estadisticas/oede/empleoyremuneracion.asp\n",
    "\n",
    "### Contenido del dataset\n",
    "#### Periodo: \n",
    "Indica año y mes al que corresponde la remuneración.\n",
    "#### Industria: \n",
    "Nombre del sector o rama de actividad económica.\n",
    "#### Género: \n",
    "Género del grupo de trabajadores al que pertenece la remuneración.\n",
    "#### Mujer: \n",
    "Variable binaria (1 o 0) toma el valor 1 si es mujer, 0 si no. Útil para análisis estadístico, modelos y gráficos.\n",
    "#### Varon: \n",
    "Variable binaria (1 o 0) toma el valor 1 si es varón, 0 si no. Útil para análisis estadístico, modelos y gráficos.\n",
    "#### Remuneración: \n",
    "Remuneración promedio mensual para ese sector, género y período (en pesos argentinos).\n",
    "#### Año:\n",
    "Extracción del año de la columna período.\n",
    "\n",
    "### Objetivo general\n",
    "Analizar la evolución de la remuneración media del empleo registrado en el sector privado en Argentina, según rama de actividad y género, en el período comprendido entre enero de 1996 y octubre de 2022, utilizando herramientas de data science, con el fin de identificar patrones, desigualdades y tendencias vinculadas a la brecha salarial de género en el mundo laboral.\n",
    "\n",
    "### Objetivos específicos\n",
    "- Procesar y limpiar el conjunto de datos proporcionado mediante herramientas de data science, utilizando bibliotecas como pandas para su análisis exploratorio.\n",
    "\n",
    "- Describir la evolución temporal de la remuneración media del empleo registrado en el sector privado, diferenciando por género y rama de actividad (según el CIIU rev. 3 a dos dígitos).\n",
    "\n",
    "- Comparar las trayectorias salariales entre varones y mujeres en los distintos sectores de actividad, identificando las ramas con mayores y menores brechas de género.\n",
    "\n",
    "- Visualizar los resultados mediante gráficos que faciliten la comprensión de las desigualdades salariales en el período analizado.\n",
    "\n",
    "- Aplicar un modelo de aprendizaje supervisado de regresión para predecir la remuneración media en función del género, la rama de actividad y el período, evaluando su desempeño y analizando la importancia relativa de cada variable.\n",
    "\n",
    "- Reflexionar sobre las implicancias sociales y económicas de las desigualdades de género en el mundo laboral formal, a partir de los hallazgos del análisis de datos.\n",
    "\n",
    "### Tecnologías\n",
    "- Python 3\n",
    "- Pandas\n",
    "- Jupyter Notebook\n",
    "- Visual Studio Code\n",
    "- Matplotlib \n",
    "- Seaborn"
   ]
  },
  {
   "cell_type": "code",
   "execution_count": null,
   "id": "14baee76",
   "metadata": {},
   "outputs": [],
   "source": [
    "import pandas as pd\n",
    "import numpy as np\n",
    "import matplotlib.pyplot as plt\n",
    "import seaborn as sns\n",
    "from sklearn.model_selection import train_test_split\n",
    "from sklearn.preprocessing import LabelEncoder, StandardScaler\n",
    "from sklearn.linear_model import RandomForestClassifier\n",
    "from sklearn.metrics import classification_report, confusion_matrix, accuracy_score, mean_squared_error\n",
    "from sklearn.model_selection import GridSearchCV"
   ]
  },
  {
   "cell_type": "markdown",
   "id": "c2de9f86",
   "metadata": {},
   "source": [
    "## Análisis y exploración de datos"
   ]
  },
  {
   "cell_type": "code",
   "execution_count": null,
   "id": "68757393",
   "metadata": {},
   "outputs": [],
   "source": [
    "remuneraciones = pd.read_csv('Remuneraciones.csv', header=0, skiprows=[1])"
   ]
  },
  {
   "cell_type": "code",
   "execution_count": null,
   "id": "d8959056",
   "metadata": {},
   "outputs": [],
   "source": [
    "# Vista general del dataset\n",
    "print(remuneraciones.head())"
   ]
  },
  {
   "cell_type": "code",
   "execution_count": null,
   "id": "c5deffeb",
   "metadata": {},
   "outputs": [],
   "source": [
    "print(remuneraciones.columns)"
   ]
  },
  {
   "cell_type": "code",
   "execution_count": null,
   "id": "23091c80",
   "metadata": {},
   "outputs": [],
   "source": [
    "# Eliminar espacios en nkmbres de columnas\n",
    "remuneraciones.columns = remuneraciones.columns.str.strip"
   ]
  },
  {
   "cell_type": "code",
   "execution_count": null,
   "id": "f9b5a4cd",
   "metadata": {},
   "outputs": [],
   "source": [
    "print(remuneraciones.columns)"
   ]
  },
  {
   "cell_type": "markdown",
   "id": "a83c8c68",
   "metadata": {},
   "source": [
    "## Procesamiento y transformación de datos"
   ]
  },
  {
   "cell_type": "markdown",
   "id": "838ecc51",
   "metadata": {},
   "source": [
    "1. Se convirtió el período a una variable numérica continua, útil para que el modelo interprete la evolución temporal y mejore la precisión."
   ]
  },
  {
   "cell_type": "code",
   "execution_count": null,
   "id": "be2324ca",
   "metadata": {},
   "outputs": [],
   "source": [
    "# Transformacion de la columna Periodo\n",
    "meses = {'ene': 1, 'feb': 2, 'mar': 3, 'abr': 4, 'may': 5, 'jun': 6,\n",
    "         'jul': 7, 'ago': 8, 'sep': 9, 'oct': 10, 'nov': 11, 'dic': 12}\n",
    "\n",
    "remuneraciones[['Mes', 'Año']] = remuneraciones['Periodo'].str.split('-', expand=True)\n",
    "remuneraciones['Mes'] = remuneraciones['Mes'].map(meses)\n",
    "remuneraciones['Año'] = remuneraciones['Año'].astype(int) + 1900\n",
    "remuneraciones['FechaNum'] = remuneraciones['Año'] + remuneraciones['Mes'] / 12"
   ]
  },
  {
   "cell_type": "markdown",
   "id": "98e0a8d7",
   "metadata": {},
   "source": [
    "2. Se codificó Género para convertirla en variable numérica porque los modelos de machine learning no trabajan con texto."
   ]
  },
  {
   "cell_type": "code",
   "execution_count": null,
   "id": "b76bdeba",
   "metadata": {},
   "outputs": [],
   "source": [
    "# Mujeres = 0, Varones = 1\n",
    "le = LabelEncoder()\n",
    "remuneraciones['Genero'] = le.fit_transform(remuneraciones['Genero'])  "
   ]
  },
  {
   "cell_type": "markdown",
   "id": "d42dccb2",
   "metadata": {},
   "source": [
    "3. Industria se convirtió a variable binaria, una por cada sector. Esto permite que el modelo perciba el sector económico."
   ]
  },
  {
   "cell_type": "code",
   "execution_count": null,
   "id": "e18a48c5",
   "metadata": {},
   "outputs": [],
   "source": [
    "remuneraciones = pd.get_dummies(remuneraciones, columns=['Industria'], drop_first=True)"
   ]
  },
  {
   "cell_type": "code",
   "execution_count": null,
   "id": "2d4210f0",
   "metadata": {},
   "outputs": [],
   "source": [
    "#Separar X e y\n",
    "X = remuneraciones.drop(columns=['Periodo', 'Genero', 'Mes', 'Año'])\n",
    "y = remuneraciones['Genero']"
   ]
  },
  {
   "cell_type": "markdown",
   "id": "79ac79f1",
   "metadata": {},
   "source": [
    "4. Se escaló Valor y FechaNum para que tengan igual peso. Esto es importante porque los modelos como Random Forest no se ven afectados, pero otros sí lo necesitan."
   ]
  },
  {
   "cell_type": "code",
   "execution_count": null,
   "id": "c3d7c842",
   "metadata": {},
   "outputs": [],
   "source": [
    "X_train, X_test, y_train, y_test = train_test_split(X, y, test_size=0.2, random_state=42)\n",
    "\n",
    "scaler = StandardScaler()\n",
    "X_train[['Valor', 'FechaNum']] = scaler.fit_transform(X_train[['Valor', 'FechaNum']])\n",
    "X_test[['Valor', 'FechaNum']] = scaler.transform(X_test[['Valor', 'FechaNum']])"
   ]
  },
  {
   "cell_type": "code",
   "execution_count": null,
   "id": "0d6638e5",
   "metadata": {},
   "outputs": [],
   "source": [
    "# Etapa de prediccion y evaluacion del modelo\n",
    "model = RandomForestClassifier(n_estimators=100, random_state=42)\n",
    "model.fit(X_train, y_train)\n",
    "\n",
    "y_pred = model.predict(X_test)\n",
    "\n",
    "print(classification_report(y_test, y_pred))\n",
    "print(\"Accuracy:\", accuracy_score(y_test, y_pred))"
   ]
  },
  {
   "cell_type": "code",
   "execution_count": null,
   "id": "07ccc41c",
   "metadata": {},
   "outputs": [],
   "source": [
    "# Matriz de confusion\n",
    "sns.heatmap(confusion_matrix(y_test, y_pred), annot=True, fmt='d', cmap='Blues')\n",
    "plt.xlabel(\"Predicción\")\n",
    "plt.ylabel(\"Real\")\n",
    "plt.title(\"Matriz de Confusión\")\n",
    "plt.show()"
   ]
  },
  {
   "cell_type": "markdown",
   "id": "727ddf22",
   "metadata": {},
   "source": [
    "Los resultados arrojaron:\n",
    "- 2503 (Verdaderos Negativos - TN): El modelo predijo 0 y el valor real era 0.\n",
    "\n",
    "- 2649 (Verdaderos Positivos - TP): El modelo predijo 1 y el valor real era 1.\n",
    "\n",
    "- 1128 (Falsos Positivos - FP): El modelo predijo 1 pero el valor real era 0.\n",
    "\n",
    "- 1062 (Falsos Negativos - FN): El modelo predijo 0 pero el valor real era 1."
   ]
  },
  {
   "cell_type": "markdown",
   "id": "51b6035c",
   "metadata": {},
   "source": [
    "Se concluye que: \n",
    "\n",
    "- El modelo intenta aprender patrones en los salarios según sector y período para adivinar si la persona es hombre o mujer.\n",
    "\n",
    "- El hecho de que logre una precisión del 70% sugiere que hay una brecha salarial y/o patrones diferenciados entre géneros que el modelo está captando, pero no de forma determinista (no puede distinguir con certeza absoluta).\n",
    "\n",
    "- El modelo tiene una precisión general del 70% aproximadamente. El desempeño es bastante equilibrado entre ambas clases, aunque hay una cantidad no menor de errores (más de 1000 falsos positivos y más de 1000 falsos negativos). Se podría explorar mejoras ajustando el umbral de decisión o probando otro modelo.\n"
   ]
  },
  {
   "cell_type": "markdown",
   "id": "d052ccb0",
   "metadata": {},
   "source": [
    "## IMPORTANTES CONSIDERACIONES ÉTICAS\n",
    "- ATENCIÓN: predecir el género a partir de variables como salario puede reforzar estereotipos o sesgos estructurales. Esta tarea es útil si se está haciendo un análisis crítico o exploratorio, pero no debería usarse para tomar decisiones reales sobre personas. El equipo decidió desarrollar este modelo de clasificación a fin de poder aplicar el contenido y poder darle un cierre a la propuesta inicial planteada."
   ]
  }
 ],
 "metadata": {
  "kernelspec": {
   "display_name": "Python 3",
   "language": "python",
   "name": "python3"
  },
  "language_info": {
   "name": "python",
   "version": "3.13.3"
  }
 },
 "nbformat": 4,
 "nbformat_minor": 5
}
