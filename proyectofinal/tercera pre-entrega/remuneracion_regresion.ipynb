{
 "cells": [
  {
   "cell_type": "markdown",
   "id": "9b78dd81",
   "metadata": {},
   "source": [
    "# Brecha Salarial de Género en Argentina\n",
    "Este proyecto fue realizado por el grupo 15 constituido por Daniela Ferraro y Jorgelina Sigal. Se utilizó un conjunto de datos provenientes del Ministerio de Trabajo, Empleo y Seguridad Social que contiene información sobre las remuneraciones en Argentina, desagregadas por género, tipo de industria y fecha. El objetivo es analizar las brechas salariales de género y su evolución. \n",
    "\n",
    "### Dataset\n",
    "https://www.trabajo.gob.ar/estadisticas/oede/empleoyremuneracion.asp\n",
    "\n",
    "### Contenido del dataset\n",
    "#### Periodo: \n",
    "Indica año y mes al que corresponde la remuneración.\n",
    "#### Industria: \n",
    "Nombre del sector o rama de actividad económica.\n",
    "#### Género: \n",
    "Género del grupo de trabajadores al que pertenece la remuneración.\n",
    "#### Mujer: \n",
    "Variable binaria (1 o 0) toma el valor 1 si es mujer, 0 si no. Útil para análisis estadístico, modelos y gráficos.\n",
    "#### Varon: \n",
    "Variable binaria (1 o 0) toma el valor 1 si es varón, 0 si no. Útil para análisis estadístico, modelos y gráficos.\n",
    "#### Remuneración: \n",
    "Remuneración promedio mensual para ese sector, género y período (en pesos argentinos).\n",
    "#### Año:\n",
    "Extracción del año de la columna período.\n",
    "\n",
    "### Objetivo general\n",
    "Analizar la evolución de la remuneración media del empleo registrado en el sector privado en Argentina, según rama de actividad y género, en el período comprendido entre enero de 1996 y octubre de 2022, utilizando herramientas de data science, con el fin de identificar patrones, desigualdades y tendencias vinculadas a la brecha salarial de género en el mundo laboral.\n",
    "\n",
    "### Objetivos específicos\n",
    "- Procesar y limpiar el conjunto de datos proporcionado mediante herramientas de data science, utilizando bibliotecas como pandas para su análisis exploratorio.\n",
    "\n",
    "- Describir la evolución temporal de la remuneración media del empleo registrado en el sector privado, diferenciando por género y rama de actividad (según el CIIU rev. 3 a dos dígitos).\n",
    "\n",
    "- Comparar las trayectorias salariales entre varones y mujeres en los distintos sectores de actividad, identificando las ramas con mayores y menores brechas de género.\n",
    "\n",
    "- Visualizar los resultados mediante gráficos que faciliten la comprensión de las desigualdades salariales en el período analizado.\n",
    "\n",
    "- Aplicar un modelo de aprendizaje supervisado de regresión para predecir la remuneración media en función del género, la rama de actividad y el período, evaluando su desempeño y analizando la importancia relativa de cada variable.\n",
    "\n",
    "- Reflexionar sobre las implicancias sociales y económicas de las desigualdades de género en el mundo laboral formal, a partir de los hallazgos del análisis de datos.\n",
    "\n",
    "### Tecnologías\n",
    "- Python 3\n",
    "- Pandas\n",
    "- Jupyter Notebook\n",
    "- Visual Studio Code\n",
    "- Matplotlib \n",
    "- Seaborn"
   ]
  },
  {
   "cell_type": "code",
   "execution_count": 1,
   "id": "6a631f48",
   "metadata": {},
   "outputs": [],
   "source": [
    "import pandas as pd\n",
    "import numpy as np\n",
    "import matplotlib.pyplot as plt\n",
    "import seaborn as sns\n",
    "from sklearn.model_selection import train_test_split\n",
    "from sklearn.preprocessing import LabelEncoder, StandardScaler\n",
    "from sklearn.ensemble import RandomForestRegressor\n",
    "from sklearn.metrics import mean_squared_error, r2_score\n",
    "from sklearn.model_selection import GridSearchCV"
   ]
  },
  {
   "cell_type": "markdown",
   "id": "ccb44ee5",
   "metadata": {},
   "source": [
    "## Análisis y exploración de datos"
   ]
  },
  {
   "cell_type": "markdown",
   "id": "bf70f22f",
   "metadata": {},
   "source": [
    "En esta etapa se realiza el análisis y exploración de datos necesario para tener conocimiento del tipo de datos con los que se trabaja, y cuáles son necesarios transformar más adelante.\n",
    "Se incluye:\n",
    "- Denominación de columnas.\n",
    "- Verificación de valores nulos.\n",
    "- Verificación de valores únicos."
   ]
  },
  {
   "cell_type": "code",
   "execution_count": 2,
   "id": "faa6eae9",
   "metadata": {},
   "outputs": [],
   "source": [
    "remuneraciones = pd.read_csv('Remuneraciones.csv', header=0, skiprows=[1])"
   ]
  },
  {
   "cell_type": "code",
   "execution_count": 3,
   "id": "9bec6637",
   "metadata": {},
   "outputs": [
    {
     "name": "stdout",
     "output_type": "stream",
     "text": [
      "  Periodo                Industria   Genero  Valor\n",
      "0  feb-96  agricultura y ganaderia  Mujeres  406.8\n",
      "1  mar-96  agricultura y ganaderia  Mujeres  399.7\n",
      "2  abr-96  agricultura y ganaderia  Mujeres  375.9\n",
      "3  may-96  agricultura y ganaderia  Mujeres  395.6\n",
      "4  jun-96  agricultura y ganaderia  Mujeres  554.0\n"
     ]
    }
   ],
   "source": [
    "# Vista general del dataset\n",
    "print(remuneraciones.head())"
   ]
  },
  {
   "cell_type": "code",
   "execution_count": 4,
   "id": "5d459d38",
   "metadata": {},
   "outputs": [
    {
     "name": "stdout",
     "output_type": "stream",
     "text": [
      "Index(['Periodo', 'Industria', 'Genero', 'Valor'], dtype='object')\n"
     ]
    }
   ],
   "source": [
    "# Asignación de nombres a las columnas\n",
    "remuneraciones.columns = ['Periodo', 'Industria', 'Genero', 'Valor']\n",
    "# Comprobación de existencia de nombres\n",
    "print(remuneraciones.columns)"
   ]
  },
  {
   "cell_type": "code",
   "execution_count": 5,
   "id": "5b309606",
   "metadata": {},
   "outputs": [
    {
     "data": {
      "text/plain": [
       "Periodo      0\n",
       "Industria    0\n",
       "Genero       0\n",
       "Valor        0\n",
       "dtype: int64"
      ]
     },
     "execution_count": 5,
     "metadata": {},
     "output_type": "execute_result"
    }
   ],
   "source": [
    "# Verificación de valores nulos\n",
    "remuneraciones.isnull().sum()"
   ]
  },
  {
   "cell_type": "code",
   "execution_count": 6,
   "id": "5ff65e1e",
   "metadata": {},
   "outputs": [
    {
     "name": "stdout",
     "output_type": "stream",
     "text": [
      "['Mujeres' 'Varones']\n"
     ]
    }
   ],
   "source": [
    "# Verificación de valores únicos en la columna\n",
    "print(remuneraciones['Genero'].unique())"
   ]
  },
  {
   "cell_type": "markdown",
   "id": "6dce96b9",
   "metadata": {},
   "source": [
    "## Procesamiento y transformación de datos"
   ]
  },
  {
   "cell_type": "markdown",
   "id": "ad963aab",
   "metadata": {},
   "source": [
    "En esta sección se lleva a cabo el procesamiento y la transformación de las variables relevantes para asegurar la calidad, consistencia y utilidad de los datos.\n",
    "Las tareas incluyen:\n",
    "- Conversión de tipos de datos.\n",
    "- Codificación de variables categóricas.\n",
    "- Escalado de características numéricas.\n",
    "- Creación de nuevas variables que permitan enriquecer el análisis posterior.\n",
    "\n",
    "Este paso es clave para garantizar que los algoritmos de machine learning puedan operar de manera efectiva y producir resultados confiables y representativos."
   ]
  },
  {
   "cell_type": "markdown",
   "id": "07384aca",
   "metadata": {},
   "source": [
    "1. Primero se convirtió la variable Periodo a formato numérico para que los modelos pudieran trabajar con esa información temporal."
   ]
  },
  {
   "cell_type": "code",
   "execution_count": 7,
   "id": "9535a319",
   "metadata": {},
   "outputs": [],
   "source": [
    "# Reemplazo de abreviaturas en español por números\n",
    "meses = {\n",
    "    'ene': '01', 'feb': '02', 'mar': '03', 'abr': '04',\n",
    "    'may': '05', 'jun': '06', 'jul': '07', 'ago': '08',\n",
    "    'sep': '09', 'oct': '10', 'nov': '11', 'dic': '12'\n",
    "}\n",
    "\n",
    "# Aplicación del reemplazo\n",
    "remuneraciones['Periodo'] = remuneraciones['Periodo'].str.lower().replace(meses, regex=True)\n",
    "\n",
    "# Conversión a datetime\n",
    "remuneraciones['Periodo'] = pd.to_datetime('01-' + remuneraciones['Periodo'], format='%d-%m-%y')"
   ]
  },
  {
   "cell_type": "code",
   "execution_count": 8,
   "id": "0ed3bbb8",
   "metadata": {},
   "outputs": [],
   "source": [
    "# Extracción del año como número\n",
    "remuneraciones['Año'] = remuneraciones['Periodo'].dt.year"
   ]
  },
  {
   "cell_type": "code",
   "execution_count": 9,
   "id": "6a43f708",
   "metadata": {},
   "outputs": [
    {
     "name": "stdout",
     "output_type": "stream",
     "text": [
      "0       1996-02-01\n",
      "1       1996-03-01\n",
      "2       1996-04-01\n",
      "3       1996-05-01\n",
      "4       1996-06-01\n",
      "           ...    \n",
      "36702   2022-06-01\n",
      "36703   2022-07-01\n",
      "36704   2022-08-01\n",
      "36705   2022-09-01\n",
      "36706   2022-10-01\n",
      "Name: Periodo, Length: 36707, dtype: datetime64[ns]\n"
     ]
    }
   ],
   "source": [
    "# Muestra del resultado de la conversión\n",
    "print(remuneraciones['Periodo'])"
   ]
  },
  {
   "cell_type": "code",
   "execution_count": 10,
   "id": "201b4a51",
   "metadata": {},
   "outputs": [
    {
     "name": "stdout",
     "output_type": "stream",
     "text": [
      "Periodo      datetime64[ns]\n",
      "Industria            object\n",
      "Genero               object\n",
      "Valor               float64\n",
      "Año                   int32\n",
      "dtype: object\n"
     ]
    }
   ],
   "source": [
    "# Muestra del tipo de datos generado\n",
    "print(remuneraciones.dtypes)"
   ]
  },
  {
   "cell_type": "markdown",
   "id": "484c9402",
   "metadata": {},
   "source": [
    "2. Se codificó la variable Género, ya que los algoritmos de machine learning no pueden trabajar con texto."
   ]
  },
  {
   "cell_type": "code",
   "execution_count": 11,
   "id": "de9ba43d",
   "metadata": {},
   "outputs": [],
   "source": [
    "# Conversión de texto a número\n",
    "remuneraciones['Genero'] = remuneraciones['Genero'].map({'Varones': 0, 'Mujeres': 1})"
   ]
  },
  {
   "cell_type": "markdown",
   "id": "7906d585",
   "metadata": {},
   "source": [
    "3. Se codificó la variable Industria, evaluando distintos métodos para evitar alta dimensionalidad."
   ]
  },
  {
   "cell_type": "markdown",
   "id": "83a61afc",
   "metadata": {},
   "source": [
    "En primera instancia, se aplicó One-Hot Encoding para codificar la variable Industria obteniendo resultados desfavorables con respecto al aumento de la dimensión del dataset. Además, la combinación del modelo Random Forest Regressor no resulta bien con relaciones lineales entre valores codificados. Por eso, se eligió Label Encoder en combinación con Random Forest Regressor, ya que tolera muy bien variables categóricas codificadas como enteros.\n"
   ]
  },
  {
   "cell_type": "code",
   "execution_count": 12,
   "id": "d82794bf",
   "metadata": {},
   "outputs": [],
   "source": [
    "# Codificación de la variable industria\n",
    "le = LabelEncoder()\n",
    "remuneraciones['Industria'] = le.fit_transform(remuneraciones['Industria'])"
   ]
  },
  {
   "cell_type": "markdown",
   "id": "d376a129",
   "metadata": {},
   "source": [
    "4. Se realizó el escalado de variables numéricas y selección de features para alimentar el modelo."
   ]
  },
  {
   "cell_type": "code",
   "execution_count": 13,
   "id": "37044870",
   "metadata": {},
   "outputs": [],
   "source": [
    "# Separación de X e y\n",
    "X = remuneraciones[['Genero', 'Industria', 'Año']]\n",
    "y = remuneraciones['Valor']"
   ]
  },
  {
   "cell_type": "code",
   "execution_count": 14,
   "id": "72463e01",
   "metadata": {},
   "outputs": [],
   "source": [
    "# División del modelo\n",
    "X_train, X_test, y_train, y_test = train_test_split(X, y, test_size=0.2, random_state=42)"
   ]
  },
  {
   "cell_type": "code",
   "execution_count": 15,
   "id": "3634ed12",
   "metadata": {},
   "outputs": [],
   "source": [
    "# Definición la grilla de hiperparámetros\n",
    "param_grid = {\n",
    "    'n_estimators': [100, 200],\n",
    "    'max_depth': [None, 10, 20],\n",
    "    'min_samples_split': [2, 5],\n",
    "    'min_samples_leaf': [1, 2]\n",
    "}"
   ]
  },
  {
   "cell_type": "markdown",
   "id": "c94639c7",
   "metadata": {},
   "source": [
    "### Modelo de regresión con Random Forest Regressor"
   ]
  },
  {
   "cell_type": "markdown",
   "id": "3b42138d",
   "metadata": {},
   "source": [
    "5. Se eligió un modelo de regresión con Random Forest Regressor, por su capacidad para capturar relaciones no lineales y su robustez frente a variables categóricas ya codificadas."
   ]
  },
  {
   "cell_type": "markdown",
   "id": "9a675059",
   "metadata": {},
   "source": [
    "En primera instancia se evaluó un enfoque invertido al de la decisión final, siendo: ¿Es posible predecir el género de una persona a partir de su remuneración? Donde era necesario plantear un modelo de clasificación."
   ]
  },
  {
   "cell_type": "markdown",
   "id": "c30e275b",
   "metadata": {},
   "source": [
    "#### Modelos de clasificación evaluados \n",
    "- Regresión logística\n",
    "- Random forest\n",
    "- Árbol de decisión\n",
    "\n",
    "Los resultados arrojaron:\n",
    "- Bajo desempeño en todos los modelos (precisión menor a %51).\n",
    "- Métricas como accuracy, precision, recall y f1-score revelaron que los modelos no lograban predecir correctamente el género en base a la remuneración y la industria.\n",
    "- Esto reveló que la remuneración media por si sola no es un predictor fiable del género."
   ]
  },
  {
   "cell_type": "markdown",
   "id": "9db95cb4",
   "metadata": {},
   "source": [
    "Esto presentaba un gran conflicto ético además de los resultados desfavorables, ya que el planteo de la prediccién del género a partir de la remuneración es controversial y puede generar estigmas sociales y malinterpretaciones."
   ]
  },
  {
   "cell_type": "markdown",
   "id": "578d4f75",
   "metadata": {},
   "source": [
    "Luego, se invirtió el enfoque para estudiar: ¿Es posible predecir la remuneración de una persona a partir del género, industria y período? Siendo necesario el planteo de un modelo de regresion."
   ]
  },
  {
   "cell_type": "markdown",
   "id": "98ceea6c",
   "metadata": {},
   "source": [
    "#### Modelos de regresión evaluados\n",
    "- Regresión lineal\n",
    "- Árbol de decisión\n",
    "- Random forest\n",
    "\n",
    "Los resultados arrojaron: \n",
    "- El modelo de regresión lineal tuvo muy bajo R² (~0.04), indicando que no capturaba bien la variabilidad.\n",
    "- El árbol de decisión mejoró levemente los resultados.\n",
    "- Random forest ofreció el mejor desempeño, con un R² cercano a 0.93 y bajo error cuadrático medio (MSE), indicando un excelente ajuste al modelo."
   ]
  },
  {
   "cell_type": "code",
   "execution_count": 16,
   "id": "a8145522",
   "metadata": {},
   "outputs": [],
   "source": [
    "# Creación del modelo base\n",
    "rf = RandomForestRegressor(random_state=42)"
   ]
  },
  {
   "cell_type": "code",
   "execution_count": 17,
   "id": "846e70d5",
   "metadata": {},
   "outputs": [],
   "source": [
    "# Configuración de GridSearchCV\n",
    "grid_search = GridSearchCV(estimator=rf,param_grid=param_grid,cv=3,scoring='r2',n_jobs=-1)"
   ]
  },
  {
   "cell_type": "code",
   "execution_count": 26,
   "id": "16dc6450",
   "metadata": {},
   "outputs": [
    {
     "name": "stdout",
     "output_type": "stream",
     "text": [
      "Train - MSE: 125369660.35884486\n",
      "Train - R² : 0.9481851040750942\n",
      "Test  - MSE: 186112907.4982259\n",
      "Test  - R² : 0.9274721762258531\n"
     ]
    }
   ],
   "source": [
    "# Obtener el mejor modelo entrenado\n",
    "best_model = grid_search.best_estimator_\n",
    "\n",
    "# Predicciones\n",
    "y_train_pred = best_model.predict(X_train)\n",
    "y_test_pred = best_model.predict(X_test)\n",
    "\n",
    "# Evaluación en train\n",
    "mse_train = mean_squared_error(y_train, y_train_pred)\n",
    "r2_train = r2_score(y_train, y_train_pred)\n",
    "\n",
    "# Evaluación en test\n",
    "mse_test = mean_squared_error(y_test, y_test_pred)\n",
    "r2_test = r2_score(y_test, y_test_pred)\n",
    "\n",
    "# Imprimir resultados\n",
    "print('Train - MSE:', mse_train)\n",
    "print('Train - R² :', r2_train)\n",
    "print('Test  - MSE:', mse_test)\n",
    "print('Test  - R² :', r2_test)"
   ]
  },
  {
   "cell_type": "markdown",
   "id": "bea20454",
   "metadata": {},
   "source": [
    "Esto significa que el modelo explica el 94.8% de la varianza en los datos de entrenamiento y el 92.7% en los datos de test. La diferencia de 2% es pequeña, indicando muy buena generalización."
   ]
  },
  {
   "cell_type": "markdown",
   "id": "7ba1f1bd",
   "metadata": {},
   "source": [
    "No se presenta **overfitting**, ya que:\n",
    "- El desempeño en los datos de prueba es muy similar al del entrenamiento.\n",
    "- El modelo generaliza bien, es decir, aprendió los patrones reales y no simplemente los datos exactos de entrenamiento.\n",
    "- La diferencia entre R² train y test es pequeña y aceptable."
   ]
  },
  {
   "cell_type": "code",
   "execution_count": 27,
   "id": "2888cab2",
   "metadata": {},
   "outputs": [
    {
     "data": {
      "image/png": "[encoded data removed]",
      "text/plain": [
       "<Figure size 1000x500 with 1 Axes>"
      ]
     },
     "metadata": {},
     "output_type": "display_data"
    }
   ],
   "source": [
    "# Gráfico donde se mide la importancia de las variables en juego\n",
    "feature_importances = best_model.feature_importances_\n",
    "features = X.columns\n",
    "plt.figure(figsize=(10,5))\n",
    "plt.barh(features, feature_importances)\n",
    "plt.xlabel('Importancia')\n",
    "plt.title('Importancia de cada variable en Random Forest')\n",
    "plt.show()"
   ]
  },
  {
   "cell_type": "markdown",
   "id": "56425dc4",
   "metadata": {},
   "source": [
    "*El gráfico muestra la importancia relativa que cada variable tuvo en la predicción de la remuneración según el modelo Random Forest Regressor. Las importancias se calculan en base a cuánto cada variable contribuye a reducir la impureza en los nodos del bosque de árboles de decisión.*\n",
    "- Año es la variable con mayor importancia (≈ 0.75): esto indica que la evolución temporal es el principal factor asociado a los cambios en la remuneración.\n",
    "- Industria tiene una importancia intermedia (≈ 0.23): sugiere que el sector económico también influye, aunque en menor medida.\n",
    "- Género muestra una importancia muy baja (≈ 0.02): esto implica que, según el modelo, el género tiene una influencia menor al momento de predecir el salario comparado con las otras variables."
   ]
  },
  {
   "cell_type": "markdown",
   "id": "18b9cc1a",
   "metadata": {},
   "source": [
    "Se concluyó que:\n",
    "\n",
    "- Año concentra cambios macroeconómicos (inflación, convenios colectivos, políticas públicas, etc.) que afectan de forma estructural los sueldos.\n",
    "\n",
    "- Industria influye porque hay sectores con remuneraciones históricamente más altas (por ejemplo, minería o finanzas) que otros (como educación o servicios sociales).\n",
    "\n",
    "- Género, si bien tiene un impacto reconocido en estudios sociales y económicos, puede haber quedado subestimado por\n",
    "    - La codificación binaria.\n",
    "    - El hecho de que otras variables capturen más variabilidad (multicolinealidad).\n",
    "    - La estructura del modelo, que no detecta bien diferencias sutiles o sistémicas en igualdad de condiciones.\n",
    " \n",
    "El modelo Random Forest Regressor logró un buen rendimiento predictivo, con un R² de 0.94 en entrenamiento y 0.93 en test, lo que demuestra ausencia de overfitting y una buena capacidad de generalización. \n",
    "\n",
    "El análisis de la importancia de variables mostró que el año es el factor más relevante en la predicción de la remuneración, seguido por la industria. En cambio, la variable género tuvo una importancia significativamente menor.\n",
    "\n",
    "Esto no significa necesariamente que no exista brecha salarial por género, sino que dentro del modelo actual, y dado el conjunto de variables utilizadas, el género no tuvo un peso fuerte en la predicción directa del salario. \n",
    "\n",
    "Estos resultados resaltan la necesidad de un análisis más detallado sobre cómo interactúan las variables y cómo podrían incorporarse nuevas variables o enfoques (como análisis por subgrupos o modelos explicativos) para estudiar la desigualdad salarial por género."
   ]
  }
 ],
 "metadata": {
  "kernelspec": {
   "display_name": "Python 3",
   "language": "python",
   "name": "python3"
  },
  "language_info": {
   "codemirror_mode": {
    "name": "ipython",
    "version": 3
   },
   "file_extension": ".py",
   "mimetype": "text/x-python",
   "name": "python",
   "nbconvert_exporter": "python",
   "pygments_lexer": "ipython3",
   "version": "3.13.5"
  }
 },
 "nbformat": 4,
 "nbformat_minor": 5
}
