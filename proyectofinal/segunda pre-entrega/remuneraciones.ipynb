{
 "cells": [
  {
   "cell_type": "markdown",
   "id": "7ed70c59",
   "metadata": {},
   "source": [
    "Brecha Salarial de Género en Argentina \n",
    "Este proyecto fue realizado por el grupo 15 constituido por Daniela Ferraro y Jorgelina Sigal. Se utilizó un conjunto de datos provenientes del Ministerio de Trabajo, Empleo y Seguridad Social que contiene información sobre las remuneraciones en Argentina, desagregadas por género, tipo de industria y fecha. El objetivo es analizar las brechas salariales de género y su evolución. \n",
    "\n",
    "Dataset: https://www.trabajo.gob.ar/estadisticas/oede/empleoyremuneracion.asp\n",
    "\n",
    "Contenido del dataset:\n",
    "Periodo: indica año y mes al que corresponde la remuneración.\n",
    "Industria: nombre del sector o rama de actividad económica.\n",
    "Género: Género del grupo de trabajadores al que pertenece la remuneración.\n",
    "Mujer: Variable dummy (1 o 0) toma el valor 1 si es mujer, 0 si no. Útil para análisis estadístico, modelos y gráficos.\n",
    "Varon: Variable dummy (1 o 0) toma el valor 1 si es varón, 0 si no. Útil para análisis estadístico, modelos y gráficos.\n",
    "Remuneración: Remuneración promedio mensual para ese sector, género y período (en pesos argentinos).\n",
    "\n",
    "\n",
    "Objetivo general:\n",
    "Analizar la evolución de la remuneración media del empleo registrado en el sector privado en Argentina, según rama de actividad y sexo, en el período comprendido entre enero de 1996 y octubre de 2022, utilizando herramientas de data science , con el fin de identificar patrones, desigualdades y tendencias vinculadas a la brecha salarial de género en el mundo laboral.\n",
    "\n",
    "Objetivos específicos:\n",
    "Procesar y limpiar el conjunto de datos proporcionado mediante herramientas de data science, utilizando bibliotecas como pandas para su análisis exploratorio.\n",
    "Describir la evolución temporal de la remuneración media del empleo registrado en el sector privado, diferenciando por sexo y rama de actividad (según el CIIU rev. 3 a dos dígitos).\n",
    "Comparar las trayectorias salariales entre varones y mujeres en los distintos sectores de actividad, identificando las ramas con mayores y menores brechas de género.\n",
    "Visualizar los resultados mediante gráficos que faciliten la comprensión de las desigualdades salariales en el período analizado.\n",
    "Reflexionar sobre las implicancias sociales y económicas de las desigualdades de género en el mundo laboral formal, a partir de los hallazgos del análisis de datos.\n"
   ]
  },
  {
   "cell_type": "code",
   "execution_count": 2,
   "id": "3656a13d",
   "metadata": {},
   "outputs": [],
   "source": [
    "import pandas as pd"
   ]
  },
  {
   "cell_type": "code",
   "execution_count": 3,
   "id": "ac0f4022",
   "metadata": {},
   "outputs": [],
   "source": [
    "# Como primer paso, se decidio partir desde un dataset reducido para poder tener un objetivo claro\n",
    "remuneracion = pd.read_csv('Remuneraciones (1).csv',header=None)\n",
    "# Luego se empezó a convertir el dataset de horizontal a vertical\n",
    "# Se extrajeron los encabezados, porque tenia encabezados en varias filas\n",
    "industria_header = remuneracion.iloc[0]\n",
    "genero_header = remuneracion.iloc[1]\n",
    "# Se separaron los datos del contenido real. Se eliminaron las dos primeras filas (que eran encabezados) y se reseteo el índice\n",
    "remuneracion_data = remuneracion.iloc[2:].reset_index(drop=True)\n",
    "# Se agruparon las columnas como tuplas\n",
    "remuneracion_data.columns = pd.MultiIndex.from_arrays([industria_header, genero_header])\n",
    "# Se pasaron las columnas de multiindex a texto simple (menos periodo)\n",
    "remuneracion_data.columns = [\n",
    "    \"Periodo\" if i == 0 else f\"{col[0]}_{col[1]}\" \n",
    "    for i, col in enumerate(remuneracion_data.columns)\n",
    "]\n",
    "# Se transformo de horizontal a vertical\n",
    "remuneraciones = remuneracion_data.melt(id_vars='Periodo', var_name='Industria_Genero', value_name='Valor')\n",
    "# Se separo la columna combinada para dejarlas individuales\n",
    "remuneraciones[['Industria', 'Genero']] = remuneraciones['Industria_Genero'].str.split('_', expand=True)\n",
    "# Se reordenaron las columnas finales\n",
    "remuneraciones = remuneraciones[['Periodo', 'Industria', 'Genero', 'Valor']]\n",
    "# Se guarda el nuevo archivo\n",
    "remuneraciones.to_csv(\"Rem2.csv\", index=False)"
   ]
  },
  {
   "cell_type": "code",
   "execution_count": null,
   "id": "a7055aef",
   "metadata": {},
   "outputs": [],
   "source": []
  }
 ],
 "metadata": {
  "kernelspec": {
   "display_name": "Python 3",
   "language": "python",
   "name": "python3"
  },
  "language_info": {
   "codemirror_mode": {
    "name": "ipython",
    "version": 3
   },
   "file_extension": ".py",
   "mimetype": "text/x-python",
   "name": "python",
   "nbconvert_exporter": "python",
   "pygments_lexer": "ipython3",
   "version": "3.13.3"
  }
 },
 "nbformat": 4,
 "nbformat_minor": 5
}
