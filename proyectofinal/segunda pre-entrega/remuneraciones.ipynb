{
 "cells": [
  {
   "cell_type": "markdown",
   "id": "7ed70c59",
   "metadata": {},
   "source": [
    "# Brecha Salarial de Género en Argentina\n",
    "\n",
    "Este proyecto fue realizado por el grupo 15 constituido por Daniela Ferraro y Jorgelina Sigal. Se utilizó un conjunto de datos provenientes del Ministerio de Trabajo, Empleo y Seguridad Social que contiene información sobre las remuneraciones en Argentina, desagregadas por género, tipo de industria y fecha. El objetivo es analizar las brechas salariales de género y su evolución. \n",
    "\n",
    "### Dataset\n",
    "https://www.trabajo.gob.ar/estadisticas/oede/empleoyremuneracion.asp\n",
    "\n",
    "### Contenido del dataset\n",
    "#### Periodo: \n",
    "Indica año y mes al que corresponde la remuneración.\n",
    "#### Industria: \n",
    "Nombre del sector o rama de actividad económica.\n",
    "#### Género: \n",
    "Género del grupo de trabajadores al que pertenece la remuneración.\n",
    "#### Mujer: \n",
    "Variable binaria (1 o 0) toma el valor 1 si es mujer, 0 si no. Útil para análisis estadístico, modelos y gráficos.\n",
    "#### Varon: \n",
    "Variable binaria (1 o 0) toma el valor 1 si es varón, 0 si no. Útil para análisis estadístico, modelos y gráficos.\n",
    "#### Remuneración: \n",
    "Remuneración promedio mensual para ese sector, género y período (en pesos argentinos).\n",
    "\n",
    "\n",
    "### Objetivo general\n",
    "Analizar la evolución de la remuneración media del empleo registrado en el sector privado en Argentina, según rama de actividad y sexo, en el período comprendido entre enero de 1996 y octubre de 2022, utilizando herramientas de data science, con el fin de identificar patrones, desigualdades y tendencias vinculadas a la brecha salarial de género en el mundo laboral.\n",
    "\n",
    "### Objetivos específicos\n",
    "- Procesar y limpiar el conjunto de datos proporcionado mediante herramientas de data science, utilizando bibliotecas como pandas para su análisis exploratorio.\n",
    "\n",
    "- Describir la evolución temporal de la remuneración media del empleo registrado en el sector privado, diferenciando por sexo y rama de actividad (según el CIIU rev. 3 a dos dígitos).\n",
    "\n",
    "- Comparar las trayectorias salariales entre varones y mujeres en los distintos sectores de actividad, identificando las ramas con mayores y menores brechas de género.\n",
    "\n",
    "- Visualizar los resultados mediante gráficos que faciliten la comprensión de las desigualdades salariales en el período analizado.\n",
    "\n",
    "- Reflexionar sobre las implicancias sociales y económicas de las desigualdades de género en el mundo laboral formal, a partir de los hallazgos del análisis de datos.\n",
    "\n",
    "### Tecnologías\n",
    "- Python 3\n",
    "- Pandas\n",
    "- Jupyter Notebook\n",
    "- Visual Studio Code\n",
    "- Matplotlib \n",
    "- Seaborn"
   ]
  },
  {
   "cell_type": "code",
   "execution_count": 1,
   "id": "3656a13d",
   "metadata": {},
   "outputs": [],
   "source": [
    "import pandas as pd"
   ]
  },
  {
   "cell_type": "markdown",
   "id": "c34e4e52",
   "metadata": {},
   "source": [
    "## Transformación del dataset de remuneraciones\n",
    "\n",
    "1. Se parte de un dataset reducido para facilitar el análisis y tener un objetivo claro (hoja tanto del dataset original).\n",
    "2. Se convierte el dataset de formato horizontal a vertical.\n",
    "3. Se extraen encabezados que estaban en múltiples filas.\n",
    "4. Se ajustan nombres de columnas y se separan variables combinadas.\n",
    "5. Se guarda el resultado limpio en un nuevo archivo CSV.\n"
   ]
  },
  {
   "cell_type": "code",
   "execution_count": null,
   "id": "ac0f4022",
   "metadata": {},
   "outputs": [],
   "source": [
    "# Lectura del archivo original sin encabezado\n",
    "remuneracion = pd.read_csv('Remuneraciones (1).csv',header=None)\n",
    "# Extracción de encabezados\n",
    "industria_header = remuneracion.iloc[0]\n",
    "genero_header = remuneracion.iloc[1]\n",
    "# Eliminación de las primeras filas y reset de índice\n",
    "remuneracion_data = remuneracion.iloc[2:].reset_index(drop=True)\n",
    "# Agrupación de columnas como tuplas\n",
    "remuneracion_data.columns = pd.MultiIndex.from_arrays([industria_header, genero_header])\n",
    "# Transformación de columnas multiindex a texto simple\n",
    "remuneracion_data.columns = [\n",
    "    \"Periodo\" if i == 0 else f\"{col[0]}_{col[1]}\" \n",
    "    for i, col in enumerate(remuneracion_data.columns)\n",
    "]\n",
    "# Transformación de horizontal a vertical\n",
    "remuneraciones = remuneracion_data.melt(id_vars='Periodo', var_name='Industria_Genero', value_name='Valor')\n",
    "# Separación de columna combinada\n",
    "remuneraciones[['Industria', 'Genero']] = remuneraciones['Industria_Genero'].str.split('_', expand=True)\n",
    "# Reordenación\n",
    "remuneraciones = remuneraciones[['Periodo', 'Industria', 'Genero', 'Valor']]\n",
    "# Creación de nuevo archivo\n",
    "remuneraciones.to_csv(\"Rem2.csv\", index=False)"
   ]
  },
  {
   "cell_type": "markdown",
   "id": "da018c14",
   "metadata": {},
   "source": [
    "## Exploración de los datos"
   ]
  },
  {
   "cell_type": "code",
   "execution_count": null,
   "id": "a7055aef",
   "metadata": {},
   "outputs": [
    {
     "name": "stdout",
     "output_type": "stream",
     "text": [
      "  Periodo                Industria   Genero  Valor\n",
      "0  ene-96  agricultura y ganaderia  Mujeres  380.2\n",
      "1  feb-96  agricultura y ganaderia  Mujeres  406.8\n",
      "2  mar-96  agricultura y ganaderia  Mujeres  399.7\n",
      "3  abr-96  agricultura y ganaderia  Mujeres  375.9\n",
      "4  may-96  agricultura y ganaderia  Mujeres  395.6\n"
     ]
    }
   ],
   "source": [
    "# Muestra las primeras 5 filas\n",
    "print(remuneraciones.head())"
   ]
  },
  {
   "cell_type": "code",
   "execution_count": null,
   "id": "8a9de88a",
   "metadata": {},
   "outputs": [
    {
     "name": "stdout",
     "output_type": "stream",
     "text": [
      "Index(['Periodo', 'Industria', 'Genero', 'Valor'], dtype='object')\n"
     ]
    }
   ],
   "source": [
    "# Devuelve un objeto Index con los nombres\n",
    "print(remuneraciones.columns)"
   ]
  },
  {
   "cell_type": "code",
   "execution_count": null,
   "id": "a69478b5",
   "metadata": {},
   "outputs": [
    {
     "name": "stdout",
     "output_type": "stream",
     "text": [
      "Periodo      object\n",
      "Industria    object\n",
      "Genero       object\n",
      "Valor        object\n",
      "dtype: object\n"
     ]
    }
   ],
   "source": [
    "# Muestra el tipo de dato de cada columna\n",
    "print(remuneraciones.dtypes)"
   ]
  },
  {
   "cell_type": "code",
   "execution_count": null,
   "id": "f7e3f801",
   "metadata": {},
   "outputs": [
    {
     "name": "stdout",
     "output_type": "stream",
     "text": [
      "<bound method DataFrame.info of       Periodo                Industria   Genero     Valor\n",
      "0      ene-96  agricultura y ganaderia  Mujeres     380.2\n",
      "1      feb-96  agricultura y ganaderia  Mujeres     406.8\n",
      "2      mar-96  agricultura y ganaderia  Mujeres     399.7\n",
      "3      abr-96  agricultura y ganaderia  Mujeres     375.9\n",
      "4      may-96  agricultura y ganaderia  Mujeres     395.6\n",
      "...       ...                      ...      ...       ...\n",
      "36703  jun-22              sin definir  Varones    129089\n",
      "36704  jul-22              sin definir  Varones   92970.8\n",
      "36705  ago-22              sin definir  Varones  106303.9\n",
      "36706  sep-22              sin definir  Varones  117695.4\n",
      "36707  oct-22              sin definir  Varones  129083.9\n",
      "\n",
      "[36708 rows x 4 columns]>\n"
     ]
    }
   ],
   "source": [
    "# Incluye cantidad de datos no nulos y tipos\n",
    "print(remuneraciones.info)"
   ]
  },
  {
   "cell_type": "code",
   "execution_count": 7,
   "id": "9413931b",
   "metadata": {},
   "outputs": [
    {
     "name": "stdout",
     "output_type": "stream",
     "text": [
      "       Periodo                Industria   Genero  Valor\n",
      "count    36708                    36708    36708  36708\n",
      "unique     322                       57        2  30860\n",
      "top     oct-22  agricultura y ganaderia  Mujeres  536.7\n",
      "freq       114                      644    18354      7\n"
     ]
    }
   ],
   "source": [
    "# Estadisticas descriptivas \n",
    "print(remuneraciones.describe())\n"
   ]
  },
  {
   "cell_type": "code",
   "execution_count": 8,
   "id": "461e7d4e",
   "metadata": {},
   "outputs": [
    {
     "name": "stdout",
     "output_type": "stream",
     "text": [
      "Periodo      0\n",
      "Industria    0\n",
      "Genero       0\n",
      "Valor        0\n",
      "dtype: int64\n"
     ]
    }
   ],
   "source": [
    "# Valores nulos o faltantes\n",
    "print(remuneraciones.isnull().sum())"
   ]
  }
 ],
 "metadata": {
  "kernelspec": {
   "display_name": "Python 3",
   "language": "python",
   "name": "python3"
  },
  "language_info": {
   "codemirror_mode": {
    "name": "ipython",
    "version": 3
   },
   "file_extension": ".py",
   "mimetype": "text/x-python",
   "name": "python",
   "nbconvert_exporter": "python",
   "pygments_lexer": "ipython3",
   "version": "3.13.3"
  }
 },
 "nbformat": 4,
 "nbformat_minor": 5
}
