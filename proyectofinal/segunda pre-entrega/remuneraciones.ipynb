{
 "cells": [
  {
   "cell_type": "markdown",
   "id": "7ed70c59",
   "metadata": {},
   "source": [
    "# Brecha Salarial de Género en Argentina\n",
    "\n",
    "Este proyecto fue realizado por el grupo 15 constituido por Daniela Ferraro y Jorgelina Sigal. Se utilizó un conjunto de datos provenientes del Ministerio de Trabajo, Empleo y Seguridad Social que contiene información sobre las remuneraciones en Argentina, desagregadas por género, tipo de industria y fecha. El objetivo es analizar las brechas salariales de género y su evolución. \n",
    "\n",
    "### Dataset\n",
    "https://www.trabajo.gob.ar/estadisticas/oede/empleoyremuneracion.asp\n",
    "\n",
    "### Contenido del dataset\n",
    "#### Periodo: \n",
    "Indica año y mes al que corresponde la remuneración.\n",
    "#### Industria: \n",
    "Nombre del sector o rama de actividad económica.\n",
    "#### Género: \n",
    "Género del grupo de trabajadores al que pertenece la remuneración.\n",
    "#### Mujer: \n",
    "Variable binaria (1 o 0) toma el valor 1 si es mujer, 0 si no. Útil para análisis estadístico, modelos y gráficos.\n",
    "#### Varon: \n",
    "Variable binaria (1 o 0) toma el valor 1 si es varón, 0 si no. Útil para análisis estadístico, modelos y gráficos.\n",
    "#### Remuneración: \n",
    "Remuneración promedio mensual para ese sector, género y período (en pesos argentinos).\n",
    "\n",
    "\n",
    "### Objetivo general\n",
    "Analizar la evolución de la remuneración media del empleo registrado en el sector privado en Argentina, según rama de actividad y sexo, en el período comprendido entre enero de 1996 y octubre de 2022, utilizando herramientas de data science, con el fin de identificar patrones, desigualdades y tendencias vinculadas a la brecha salarial de género en el mundo laboral.\n",
    "\n",
    "### Objetivos específicos\n",
    "- Procesar y limpiar el conjunto de datos proporcionado mediante herramientas de data science, utilizando bibliotecas como pandas para su análisis exploratorio.\n",
    "\n",
    "- Describir la evolución temporal de la remuneración media del empleo registrado en el sector privado, diferenciando por sexo y rama de actividad (según el CIIU rev. 3 a dos dígitos).\n",
    "\n",
    "- Comparar las trayectorias salariales entre varones y mujeres en los distintos sectores de actividad, identificando las ramas con mayores y menores brechas de género.\n",
    "\n",
    "- Visualizar los resultados mediante gráficos que faciliten la comprensión de las desigualdades salariales en el período analizado.\n",
    "\n",
    "- Reflexionar sobre las implicancias sociales y económicas de las desigualdades de género en el mundo laboral formal, a partir de los hallazgos del análisis de datos.\n",
    "\n",
    "### Tecnologías\n",
    "- Python 3\n",
    "- Pandas\n",
    "- Jupyter Notebook\n",
    "- Visual Studio Code\n",
    "- Matplotlib \n",
    "- Seaborn"
   ]
  },
  {
   "cell_type": "code",
   "execution_count": 1,
   "id": "3656a13d",
   "metadata": {},
   "outputs": [],
   "source": [
    "import pandas as pd\n",
    "import numpy as np\n",
    "import matplotlib.pyplot as plt\n",
    "import seaborn as sns\n",
    "from sklearn.preprocessing import LabelEncoder, OneHotEncoder"
   ]
  },
  {
   "cell_type": "markdown",
   "id": "da018c14",
   "metadata": {},
   "source": [
    "## Exploración de los datos"
   ]
  },
  {
   "cell_type": "code",
   "execution_count": 2,
   "id": "c9364819",
   "metadata": {},
   "outputs": [],
   "source": [
    "remuneraciones1 = pd.read_csv('Remuneraciones (1).csv', header=None)"
   ]
  },
  {
   "cell_type": "code",
   "execution_count": 7,
   "id": "a7055aef",
   "metadata": {},
   "outputs": [
    {
     "name": "stdout",
     "output_type": "stream",
     "text": [
      "  Período (mes año) agricultura y ganaderia agricultura y ganaderia.1  \\\n",
      "0               NaN                 Mujeres                   Varones   \n",
      "1            ene-96                   380.2                     399.8   \n",
      "2            feb-96                   406.8                     398.1   \n",
      "3            mar-96                   399.7                     393.3   \n",
      "4            abr-96                   375.9                     394.6   \n",
      "\n",
      "  Silvicultura, extracción de madera Silvicultura, extracción de madera.1  \\\n",
      "0                            Mujeres                              Varones   \n",
      "1                              426.2                                335.1   \n",
      "2                                416                                338.7   \n",
      "3                              416.5                                324.2   \n",
      "4                              396.7                                334.1   \n",
      "\n",
      "  Pesca y actividades relacionadas con la pesca  \\\n",
      "0                                       Mujeres   \n",
      "1                                         677.5   \n",
      "2                                         614.5   \n",
      "3                                         773.1   \n",
      "4                                         677.2   \n",
      "\n",
      "  Pesca y actividades relacionadas con la pesca.1  \\\n",
      "0                                         Varones   \n",
      "1                                          1313.3   \n",
      "2                                          1364.4   \n",
      "3                                          1395.1   \n",
      "4                                          1269.2   \n",
      "\n",
      "  Extracción de petróleo crudo y gas natural  \\\n",
      "0                                    Mujeres   \n",
      "1                                     2062.5   \n",
      "2                                     1919.6   \n",
      "3                                     1879.3   \n",
      "4                                     1928.7   \n",
      "\n",
      "  Extracción de petróleo crudo y gas natural.1  \\\n",
      "0                                      Varones   \n",
      "1                                       2386.7   \n",
      "2                                       2314.8   \n",
      "3                                       2284.9   \n",
      "4                                         2300   \n",
      "\n",
      "  Extracción de minerales metalíferos  ... Eliminación de desperdicios  \\\n",
      "0                             Mujeres  ...                     Mujeres   \n",
      "1                              1071.7  ...                       307.9   \n",
      "2                              1413.3  ...                       297.5   \n",
      "3                              1324.6  ...                       291.5   \n",
      "4                              1121.7  ...                       294.6   \n",
      "\n",
      "  Eliminación de desperdicios.1 Servicios de organizaciones empresariales  \\\n",
      "0                       Varones                                   Mujeres   \n",
      "1                           707                                     793.7   \n",
      "2                         663.9                                     757.3   \n",
      "3                         650.5                                     751.4   \n",
      "4                         661.4                                     734.6   \n",
      "\n",
      "  Servicios de organizaciones empresariales.1  \\\n",
      "0                                     Varones   \n",
      "1                                      1043.9   \n",
      "2                                       983.6   \n",
      "3                                       979.6   \n",
      "4                                       971.9   \n",
      "\n",
      "  Cinematografía, radio y televisión Cinematografía, radio y televisión.1  \\\n",
      "0                            Mujeres                              Varones   \n",
      "1                              726.8                                958.8   \n",
      "2                              686.5                                886.8   \n",
      "3                              669.4                                878.3   \n",
      "4                              663.2                                878.8   \n",
      "\n",
      "  Servicios n.c.p. Servicios n.c.p..1 sin definir sin definir.1  \n",
      "0          Mujeres            Varones     Mujeres       Varones  \n",
      "1            519.4              570.9       615.4         636.2  \n",
      "2            504.1              556.8       599.3         628.9  \n",
      "3            499.4              542.6       594.7         642.4  \n",
      "4            493.4              534.2       567.7         611.9  \n",
      "\n",
      "[5 rows x 115 columns]\n"
     ]
    }
   ],
   "source": [
    "# Muestra las primeras 5 filas\n",
    "print(remuneraciones1.head())"
   ]
  },
  {
   "cell_type": "code",
   "execution_count": 8,
   "id": "8a9de88a",
   "metadata": {},
   "outputs": [
    {
     "name": "stdout",
     "output_type": "stream",
     "text": [
      "Index(['Período (mes año)', 'agricultura y ganaderia',\n",
      "       'agricultura y ganaderia.1', 'Silvicultura, extracción de madera',\n",
      "       'Silvicultura, extracción de madera.1',\n",
      "       'Pesca y actividades relacionadas con la pesca',\n",
      "       'Pesca y actividades relacionadas con la pesca.1',\n",
      "       'Extracción de petróleo crudo y gas natural',\n",
      "       'Extracción de petróleo crudo y gas natural.1',\n",
      "       'Extracción de minerales metalíferos',\n",
      "       ...\n",
      "       'Eliminación de desperdicios', 'Eliminación de desperdicios.1',\n",
      "       'Servicios de organizaciones empresariales',\n",
      "       'Servicios de organizaciones empresariales.1',\n",
      "       'Cinematografía, radio y televisión',\n",
      "       'Cinematografía, radio y televisión.1', 'Servicios n.c.p.',\n",
      "       'Servicios n.c.p..1', 'sin definir', 'sin definir.1'],\n",
      "      dtype='object', length=115)\n"
     ]
    }
   ],
   "source": [
    "# Devuelve un objeto Index con los nombres\n",
    "print(remuneraciones1.columns)"
   ]
  },
  {
   "cell_type": "code",
   "execution_count": 9,
   "id": "a69478b5",
   "metadata": {},
   "outputs": [
    {
     "name": "stdout",
     "output_type": "stream",
     "text": [
      "Período (mes año)                       object\n",
      "agricultura y ganaderia                 object\n",
      "agricultura y ganaderia.1               object\n",
      "Silvicultura, extracción de madera      object\n",
      "Silvicultura, extracción de madera.1    object\n",
      "                                         ...  \n",
      "Cinematografía, radio y televisión.1    object\n",
      "Servicios n.c.p.                        object\n",
      "Servicios n.c.p..1                      object\n",
      "sin definir                             object\n",
      "sin definir.1                           object\n",
      "Length: 115, dtype: object\n"
     ]
    }
   ],
   "source": [
    "# Muestra el tipo de dato de cada columna\n",
    "print(remuneraciones1.dtypes)"
   ]
  },
  {
   "cell_type": "code",
   "execution_count": 10,
   "id": "f7e3f801",
   "metadata": {},
   "outputs": [
    {
     "name": "stdout",
     "output_type": "stream",
     "text": [
      "<class 'pandas.core.frame.DataFrame'>\n",
      "RangeIndex: 323 entries, 0 to 322\n",
      "Columns: 115 entries, Período (mes año) to sin definir.1\n",
      "dtypes: object(115)\n",
      "memory usage: 290.3+ KB\n"
     ]
    }
   ],
   "source": [
    "# Incluye nombre de columnas, tipos de datos y valores no nulos\n",
    "remuneraciones1.info()"
   ]
  },
  {
   "cell_type": "code",
   "execution_count": 11,
   "id": "9413931b",
   "metadata": {},
   "outputs": [
    {
     "name": "stdout",
     "output_type": "stream",
     "text": [
      "       Período (mes año) agricultura y ganaderia agricultura y ganaderia.1  \\\n",
      "count                322                     323                       323   \n",
      "unique               322                     318                       317   \n",
      "top               oct-22                     405                    1342.2   \n",
      "freq                   1                       3                         2   \n",
      "\n",
      "       Silvicultura, extracción de madera  \\\n",
      "count                                 323   \n",
      "unique                                320   \n",
      "top                                 398.1   \n",
      "freq                                    2   \n",
      "\n",
      "       Silvicultura, extracción de madera.1  \\\n",
      "count                                   323   \n",
      "unique                                  319   \n",
      "top                                   310.9   \n",
      "freq                                      2   \n",
      "\n",
      "       Pesca y actividades relacionadas con la pesca  \\\n",
      "count                                            323   \n",
      "unique                                           321   \n",
      "top                                            666.6   \n",
      "freq                                               2   \n",
      "\n",
      "       Pesca y actividades relacionadas con la pesca.1  \\\n",
      "count                                              323   \n",
      "unique                                             322   \n",
      "top                                             1386.9   \n",
      "freq                                                 2   \n",
      "\n",
      "       Extracción de petróleo crudo y gas natural  \\\n",
      "count                                         323   \n",
      "unique                                        323   \n",
      "top                                      504169.1   \n",
      "freq                                            1   \n",
      "\n",
      "       Extracción de petróleo crudo y gas natural.1  \\\n",
      "count                                           323   \n",
      "unique                                          323   \n",
      "top                                        666089.1   \n",
      "freq                                              1   \n",
      "\n",
      "       Extracción de minerales metalíferos  ... Eliminación de desperdicios  \\\n",
      "count                                  323  ...                         323   \n",
      "unique                                 323  ...                         320   \n",
      "top                               435651.6  ...                       536.4   \n",
      "freq                                     1  ...                           2   \n",
      "\n",
      "       Eliminación de desperdicios.1  \\\n",
      "count                            323   \n",
      "unique                           321   \n",
      "top                            700.4   \n",
      "freq                               2   \n",
      "\n",
      "       Servicios de organizaciones empresariales  \\\n",
      "count                                        323   \n",
      "unique                                       317   \n",
      "top                                       1336.9   \n",
      "freq                                           2   \n",
      "\n",
      "       Servicios de organizaciones empresariales.1  \\\n",
      "count                                          323   \n",
      "unique                                         319   \n",
      "top                                         1006.5   \n",
      "freq                                             2   \n",
      "\n",
      "       Cinematografía, radio y televisión  \\\n",
      "count                                 323   \n",
      "unique                                320   \n",
      "top                                 665.7   \n",
      "freq                                    2   \n",
      "\n",
      "       Cinematografía, radio y televisión.1 Servicios n.c.p.  \\\n",
      "count                                   323              323   \n",
      "unique                                  315              319   \n",
      "top                                   958.8            491.7   \n",
      "freq                                      2                2   \n",
      "\n",
      "       Servicios n.c.p..1 sin definir sin definir.1  \n",
      "count                 323         323           323  \n",
      "unique                321         319           319  \n",
      "top                 562.6       371.1         390.5  \n",
      "freq                    2           2             2  \n",
      "\n",
      "[4 rows x 115 columns]\n"
     ]
    }
   ],
   "source": [
    "# Estadisticas descriptivas \n",
    "print(remuneraciones1.describe())"
   ]
  },
  {
   "cell_type": "code",
   "execution_count": 12,
   "id": "461e7d4e",
   "metadata": {},
   "outputs": [
    {
     "name": "stdout",
     "output_type": "stream",
     "text": [
      "Período (mes año)                       1\n",
      "agricultura y ganaderia                 0\n",
      "agricultura y ganaderia.1               0\n",
      "Silvicultura, extracción de madera      0\n",
      "Silvicultura, extracción de madera.1    0\n",
      "                                       ..\n",
      "Cinematografía, radio y televisión.1    0\n",
      "Servicios n.c.p.                        0\n",
      "Servicios n.c.p..1                      0\n",
      "sin definir                             0\n",
      "sin definir.1                           0\n",
      "Length: 115, dtype: int64\n"
     ]
    }
   ],
   "source": [
    "# Valores nulos o faltantes\n",
    "print(remuneraciones1.isnull().sum())"
   ]
  },
  {
   "cell_type": "markdown",
   "id": "f84b0714",
   "metadata": {},
   "source": [
    "## Transformación del dataset de remuneraciones\n",
    "\n",
    "1. Se parte de un dataset reducido para facilitar el análisis y tener un objetivo claro (hoja numero C1.5 del dataset original).\n",
    "2. Se convierte el dataset de formato horizontal a vertical.\n",
    "3. Se extraen encabezados que estaban en múltiples filas.\n",
    "4. Se ajustan nombres de columnas y se separan variables combinadas.\n",
    "5. Se guarda el resultado limpio en un nuevo archivo CSV.\n"
   ]
  },
  {
   "cell_type": "code",
   "execution_count": 3,
   "id": "152ca832",
   "metadata": {},
   "outputs": [
    {
     "name": "stdout",
     "output_type": "stream",
     "text": [
      "      Periodo                Industria   Genero     Valor\n",
      "0      ene-96  agricultura y ganaderia  Mujeres     380.2\n",
      "1      feb-96  agricultura y ganaderia  Mujeres     406.8\n",
      "2      mar-96  agricultura y ganaderia  Mujeres     399.7\n",
      "3      abr-96  agricultura y ganaderia  Mujeres     375.9\n",
      "4      may-96  agricultura y ganaderia  Mujeres     395.6\n",
      "...       ...                      ...      ...       ...\n",
      "36703  jun-22              sin definir  Varones    129089\n",
      "36704  jul-22              sin definir  Varones   92970.8\n",
      "36705  ago-22              sin definir  Varones  106303.9\n",
      "36706  sep-22              sin definir  Varones  117695.4\n",
      "36707  oct-22              sin definir  Varones  129083.9\n",
      "\n",
      "[36708 rows x 4 columns]\n"
     ]
    }
   ],
   "source": [
    "remuneraciones1 = pd.read_csv('Remuneraciones (1).csv', header=None)\n",
    "industria_header = remuneraciones1.iloc[0]\n",
    "genero_header = remuneraciones1.iloc[1]\n",
    "remuneraciones1_data = remuneraciones1.iloc[2:].reset_index(drop=True)\n",
    "remuneraciones1_data.columns = pd.MultiIndex.from_arrays([industria_header, genero_header])\n",
    "remuneraciones1_data.columns = [\n",
    "    \"Periodo\" if i == 0 else f\"{col[0]}_{col[1]}\" \n",
    "    for i, col in enumerate(remuneraciones1_data.columns)\n",
    "]\n",
    "\n",
    "# Corrección en nombre de variable\n",
    "remuneraciones = remuneraciones1_data.melt(id_vars='Periodo', var_name='Industria_Genero', value_name='Valor')\n",
    "\n",
    "# Filtrar filas bien formateadas\n",
    "remuneraciones = remuneraciones[remuneraciones['Industria_Genero'].str.count('_') == 1]\n",
    "\n",
    "# Separar en dos columnas\n",
    "remuneraciones[['Industria', 'Genero']] = remuneraciones['Industria_Genero'].str.split('_', expand=True)\n",
    "\n",
    "# Reordenar columnas\n",
    "remuneraciones = remuneraciones[['Periodo', 'Industria', 'Genero', 'Valor']]\n",
    "\n",
    "# Guardar archivo final\n",
    "remuneraciones.to_csv(\"Remuneraciones.csv\", index=False)\n",
    "\n",
    "print(remuneraciones)\n"
   ]
  },
  {
   "cell_type": "code",
   "execution_count": 25,
   "id": "5bdc51d8",
   "metadata": {},
   "outputs": [
    {
     "name": "stdout",
     "output_type": "stream",
     "text": [
      "57\n"
     ]
    }
   ],
   "source": [
    "# Ver cuántos valores únicos hay en 'Industria'\n",
    "print(remuneraciones['Industria'].nunique())"
   ]
  },
  {
   "cell_type": "code",
   "execution_count": 26,
   "id": "2c82fa57",
   "metadata": {},
   "outputs": [
    {
     "name": "stdout",
     "output_type": "stream",
     "text": [
      "['agricultura y ganaderia' 'Silvicultura, extracción de madera'\n",
      " 'Pesca y actividades relacionadas con la pesca'\n",
      " 'Extracción de petróleo crudo y gas natural'\n",
      " 'Extracción de minerales metalíferos'\n",
      " 'Explotación de otras minas y canteras' 'Alimentos' 'Tabaco'\n",
      " 'Productos textiles' 'Confecciones' 'Cuero' 'Madera' 'Papel' 'Edición'\n",
      " 'Productos de petróleo' 'Productos químicos'\n",
      " 'Productos de caucho y plástico' 'Otros minerales no metálicos'\n",
      " 'Metales comunes' 'Otros productos de metal' 'Maquinaria y equipo'\n",
      " 'Maquinaria de oficina' 'Aparatos eléctricos' 'Radio y televisión'\n",
      " 'Instrumentos médicos' 'Automotores' 'Otros equipo de transporte'\n",
      " 'Muebles' 'Reciclamiento de desperdicios y desechos'\n",
      " 'Electricidad, gas y agua' 'Captación, depuración y distribución de agua'\n",
      " 'Construcción'\n",
      " 'Vta. y reparación de vehículos, vta. por menor de combustible'\n",
      " 'Comercio al por mayor' 'Comercio al por menor'\n",
      " 'Servicios de hotelería y restaurantes'\n",
      " 'Transporte ferroviario y automotor y por tuberías'\n",
      " 'Transporte marítimo y fluvial'\n",
      " 'Transporte aéreo de cargas y de pasajeros'\n",
      " 'Manipulación de carga, almacenamiento y depósito'\n",
      " 'Correos y telecomunicaciones'\n",
      " 'Intermediación financiera y otros servicios financieros'\n",
      " 'Seguros y AFJP' 'Servicios auxiliares a la actividad financiera'\n",
      " 'Servicios inmobiliarios'\n",
      " 'Alquiler de equipo de transporte y de maquinaria'\n",
      " 'Actividades de informática' 'Investigación y desarrollo'\n",
      " 'Servicios jurídicos, contables y otros servicios a empresas'\n",
      " 'Agencias de empleo temporario' 'Enseñanza'\n",
      " 'Servicios sociales y de salud' 'Eliminación de desperdicios'\n",
      " 'Servicios de organizaciones empresariales'\n",
      " 'Cinematografía, radio y televisión' 'Servicios n.c.p.' 'sin definir']\n"
     ]
    }
   ],
   "source": [
    "# Ver todos los valores únicos en 'Industria'\n",
    "print(remuneraciones['Industria'].unique())"
   ]
  },
  {
   "cell_type": "markdown",
   "id": "01aa10b2",
   "metadata": {},
   "source": [
    "### Mediante el analisis exploratorio de datos, el diagnostico de las columnas arrojo que el dataframe presenta las siguientes variables:\n",
    "- Periodo: cuantitativa discreta. Unidades de tiempo.\n",
    "- Industria: categorica/ cualitativa nominal. Representa categorias sin orden.\n",
    "- Genero: categorica/ cualitativa nominal. Posee dos valores posibles.\n",
    "- Valor: cuantitativa continua. Representa monto monetario."
   ]
  },
  {
   "cell_type": "code",
   "execution_count": 5,
   "id": "3ed13561",
   "metadata": {},
   "outputs": [],
   "source": [
    "# Se quitan puntos de miles\n",
    "remuneraciones['Valor'] = remuneraciones['Valor'].str.replace('.', '', regex=False)\n",
    "# Se reemplaza coma decimal por punto\n",
    "remuneraciones['Valor'] = remuneraciones['Valor'].str.replace(',', '.', regex=False)\n",
    "# Se convierte de object a float\n",
    "remuneraciones['Valor'] = pd.to_numeric(remuneraciones['Valor'], errors='coerce')"
   ]
  },
  {
   "cell_type": "code",
   "execution_count": null,
   "id": "3799fbe8",
   "metadata": {},
   "outputs": [
    {
     "name": "stdout",
     "output_type": "stream",
     "text": [
      "      Periodo                Industria   Genero    Valor  Genero_encoded\n",
      "0      ene-96  agricultura y ganaderia  Mujeres     3802               0\n",
      "1      feb-96  agricultura y ganaderia  Mujeres     4068               0\n",
      "2      mar-96  agricultura y ganaderia  Mujeres     3997               0\n",
      "3      abr-96  agricultura y ganaderia  Mujeres     3759               0\n",
      "4      may-96  agricultura y ganaderia  Mujeres     3956               0\n",
      "...       ...                      ...      ...      ...             ...\n",
      "36703  jun-22              sin definir  Varones   129089               1\n",
      "36704  jul-22              sin definir  Varones   929708               1\n",
      "36705  ago-22              sin definir  Varones  1063039               1\n",
      "36706  sep-22              sin definir  Varones  1176954               1\n",
      "36707  oct-22              sin definir  Varones  1290839               1\n",
      "\n",
      "[36708 rows x 5 columns]\n"
     ]
    }
   ],
   "source": [
    "# Se crea una variable binaria para la variable categorica genero\n",
    "le = LabelEncoder()\n",
    "remuneraciones['Genero_encoded'] = le.fit_transform(remuneraciones['Genero'])\n",
    "print(remuneraciones)"
   ]
  }
 ],
 "metadata": {
  "kernelspec": {
   "display_name": "Python 3",
   "language": "python",
   "name": "python3"
  },
  "language_info": {
   "codemirror_mode": {
    "name": "ipython",
    "version": 3
   },
   "file_extension": ".py",
   "mimetype": "text/x-python",
   "name": "python",
   "nbconvert_exporter": "python",
   "pygments_lexer": "ipython3",
   "version": "3.13.3"
  }
 },
 "nbformat": 4,
 "nbformat_minor": 5
}
