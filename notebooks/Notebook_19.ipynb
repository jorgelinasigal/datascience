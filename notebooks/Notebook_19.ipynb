{
  "cells": [
    {
      "cell_type": "markdown",
      "metadata": {
        "id": "5iOjkg8AfYfu"
      },
      "source": [
        "# Programa Ingenias+ Data Science"
      ]
    },
    {
      "cell_type": "markdown",
      "metadata": {
        "id": "Qlz9pW98fYf0"
      },
      "source": [
        "## ✏️ Ejercitación: Aprendizaje Supervisado"
      ]
    },
    {
      "cell_type": "markdown",
      "metadata": {
        "id": "vLh1SwdnfYf1"
      },
      "source": [
        "Esta notebook les permitiria integrar y ejercitar los conceptos de Pandas 🐼 , Analisis Exploratorio, Procesamiento de datos 📊 y aprendizaje automatico que aprendimos hasta ahora.\n",
        "\n",
        "En este caso, vamos a trabajar con dos dataset nuevos. El primer dataset contiene sobre [cancer de mamá](https://archive.ics.uci.edu/ml/datasets/Breast+Cancer) y es adecuado para problemas de clasificación (**Este notebook**). El segundo dataset contiene datos sobre [venta de autos](https://www.kaggle.com/sanskrutipanda/car-pricing-prediction) y es adecuado para problemas de regresión (**Proxima Clase**).\n",
        "\n",
        "El objetivo de este projecto es ajustar modelos de regresión y clasificación. Luego mediante las metricas que hemos estudiados, elegir aquel que mejor desempeño tuvo (para cada tipo de problema).\n",
        "\n",
        "Como son datasets nuevos y no los conocemos, debemos comenzar nuestro análisis desde zero. Eso significa que debes realizar un análisis exploratorio y el correspondiente procesamiento y transformación de los datos. El análisis exploratorio te permitira hacerte preguntas sobre los datos y poder luego, elegir que modelos es posible ajustar según que variable deseas predecir y las caracteristicas de las variables independendientes.\n",
        "\n",
        "En la Notebook se sugieren dos algoritmos en cada caso. Sin embargo, pueden elegir otros. La idea es que piensen porque esos algoritmos serían utiles en nuestro caso. Y que ventaja tiene usar cada uno. A su vez, realicen la evaluación de los modelos y decidan porque elegirian uno sobre el otro."
      ]
    },
    {
      "cell_type": "markdown",
      "metadata": {
        "id": "iaH2IIaXfYf2"
      },
      "source": [
        "### 🚀 👩🏽‍💻 Aprendizaje Supervisado 📣"
      ]
    },
    {
      "cell_type": "markdown",
      "metadata": {
        "id": "wee_-5gRfYf2"
      },
      "source": [
        "### 1) Clasificación 🟢 🟣 🟡"
      ]
    },
    {
      "cell_type": "markdown",
      "metadata": {
        "id": "CCnT6nubfYf3"
      },
      "source": [
        "### 🔬 Análisis Exploratorio 🎉"
      ]
    },
    {
      "cell_type": "code",
      "execution_count": 1,
      "metadata": {
        "id": "SjXr7Q_TfYf3"
      },
      "outputs": [],
      "source": [
        "import pandas as pd\n",
        "import numpy as np\n",
        "import matplotlib.pyplot as plt\n",
        "import seaborn as sns\n",
        "import matplotlib.cm as cm"
      ]
    },
    {
      "cell_type": "code",
      "execution_count": 6,
      "metadata": {},
      "outputs": [],
      "source": [
        "columnas = [\n",
        "    \"Class\", \"age\", \"menopause\", \"tumor-size\", \"inv-nodes\", \n",
        "    \"node-caps\", \"deg-malig\", \"breast\", \"breast-quad\", \"irradiat\"\n",
        "]"
      ]
    },
    {
      "cell_type": "code",
      "execution_count": 7,
      "metadata": {
        "id": "U6_qHVFYfYf4"
      },
      "outputs": [],
      "source": [
        "df = pd.read_csv('breast-cancer.data', header=None, names=columnas)"
      ]
    },
    {
      "cell_type": "code",
      "execution_count": 8,
      "metadata": {
        "id": "qIHzBO0BfYf4"
      },
      "outputs": [
        {
          "data": {
            "text/plain": [
              "(286, 10)"
            ]
          },
          "execution_count": 8,
          "metadata": {},
          "output_type": "execute_result"
        }
      ],
      "source": [
        "df.shape"
      ]
    },
    {
      "cell_type": "code",
      "execution_count": 9,
      "metadata": {
        "id": "A_pCGrgbfYf5"
      },
      "outputs": [
        {
          "data": {
            "text/html": [
              "<div>\n",
              "<style scoped>\n",
              "    .dataframe tbody tr th:only-of-type {\n",
              "        vertical-align: middle;\n",
              "    }\n",
              "\n",
              "    .dataframe tbody tr th {\n",
              "        vertical-align: top;\n",
              "    }\n",
              "\n",
              "    .dataframe thead th {\n",
              "        text-align: right;\n",
              "    }\n",
              "</style>\n",
              "<table border=\"1\" class=\"dataframe\">\n",
              "  <thead>\n",
              "    <tr style=\"text-align: right;\">\n",
              "      <th></th>\n",
              "      <th>Class</th>\n",
              "      <th>age</th>\n",
              "      <th>menopause</th>\n",
              "      <th>tumor-size</th>\n",
              "      <th>inv-nodes</th>\n",
              "      <th>node-caps</th>\n",
              "      <th>deg-malig</th>\n",
              "      <th>breast</th>\n",
              "      <th>breast-quad</th>\n",
              "      <th>irradiat</th>\n",
              "    </tr>\n",
              "  </thead>\n",
              "  <tbody>\n",
              "    <tr>\n",
              "      <th>0</th>\n",
              "      <td>no-recurrence-events</td>\n",
              "      <td>30-39</td>\n",
              "      <td>premeno</td>\n",
              "      <td>30-34</td>\n",
              "      <td>0-2</td>\n",
              "      <td>no</td>\n",
              "      <td>3</td>\n",
              "      <td>left</td>\n",
              "      <td>left_low</td>\n",
              "      <td>no</td>\n",
              "    </tr>\n",
              "    <tr>\n",
              "      <th>1</th>\n",
              "      <td>no-recurrence-events</td>\n",
              "      <td>40-49</td>\n",
              "      <td>premeno</td>\n",
              "      <td>20-24</td>\n",
              "      <td>0-2</td>\n",
              "      <td>no</td>\n",
              "      <td>2</td>\n",
              "      <td>right</td>\n",
              "      <td>right_up</td>\n",
              "      <td>no</td>\n",
              "    </tr>\n",
              "    <tr>\n",
              "      <th>2</th>\n",
              "      <td>no-recurrence-events</td>\n",
              "      <td>40-49</td>\n",
              "      <td>premeno</td>\n",
              "      <td>20-24</td>\n",
              "      <td>0-2</td>\n",
              "      <td>no</td>\n",
              "      <td>2</td>\n",
              "      <td>left</td>\n",
              "      <td>left_low</td>\n",
              "      <td>no</td>\n",
              "    </tr>\n",
              "    <tr>\n",
              "      <th>3</th>\n",
              "      <td>no-recurrence-events</td>\n",
              "      <td>60-69</td>\n",
              "      <td>ge40</td>\n",
              "      <td>15-19</td>\n",
              "      <td>0-2</td>\n",
              "      <td>no</td>\n",
              "      <td>2</td>\n",
              "      <td>right</td>\n",
              "      <td>left_up</td>\n",
              "      <td>no</td>\n",
              "    </tr>\n",
              "    <tr>\n",
              "      <th>4</th>\n",
              "      <td>no-recurrence-events</td>\n",
              "      <td>40-49</td>\n",
              "      <td>premeno</td>\n",
              "      <td>0-4</td>\n",
              "      <td>0-2</td>\n",
              "      <td>no</td>\n",
              "      <td>2</td>\n",
              "      <td>right</td>\n",
              "      <td>right_low</td>\n",
              "      <td>no</td>\n",
              "    </tr>\n",
              "  </tbody>\n",
              "</table>\n",
              "</div>"
            ],
            "text/plain": [
              "                  Class    age menopause tumor-size inv-nodes node-caps  \\\n",
              "0  no-recurrence-events  30-39   premeno      30-34       0-2        no   \n",
              "1  no-recurrence-events  40-49   premeno      20-24       0-2        no   \n",
              "2  no-recurrence-events  40-49   premeno      20-24       0-2        no   \n",
              "3  no-recurrence-events  60-69      ge40      15-19       0-2        no   \n",
              "4  no-recurrence-events  40-49   premeno        0-4       0-2        no   \n",
              "\n",
              "   deg-malig breast breast-quad irradiat  \n",
              "0          3   left    left_low       no  \n",
              "1          2  right    right_up       no  \n",
              "2          2   left    left_low       no  \n",
              "3          2  right     left_up       no  \n",
              "4          2  right   right_low       no  "
            ]
          },
          "execution_count": 9,
          "metadata": {},
          "output_type": "execute_result"
        }
      ],
      "source": [
        "df.head()"
      ]
    },
    {
      "cell_type": "code",
      "execution_count": 10,
      "metadata": {},
      "outputs": [
        {
          "data": {
            "text/plain": [
              "Class          object\n",
              "age            object\n",
              "menopause      object\n",
              "tumor-size     object\n",
              "inv-nodes      object\n",
              "node-caps      object\n",
              "deg-malig       int64\n",
              "breast         object\n",
              "breast-quad    object\n",
              "irradiat       object\n",
              "dtype: object"
            ]
          },
          "execution_count": 10,
          "metadata": {},
          "output_type": "execute_result"
        }
      ],
      "source": [
        "df.dtypes"
      ]
    },
    {
      "cell_type": "code",
      "execution_count": 11,
      "metadata": {},
      "outputs": [
        {
          "data": {
            "text/plain": [
              "Class          0\n",
              "age            0\n",
              "menopause      0\n",
              "tumor-size     0\n",
              "inv-nodes      0\n",
              "node-caps      0\n",
              "deg-malig      0\n",
              "breast         0\n",
              "breast-quad    0\n",
              "irradiat       0\n",
              "dtype: int64"
            ]
          },
          "execution_count": 11,
          "metadata": {},
          "output_type": "execute_result"
        }
      ],
      "source": [
        "df.isnull().sum()"
      ]
    },
    {
      "cell_type": "code",
      "execution_count": 12,
      "metadata": {},
      "outputs": [
        {
          "name": "stdout",
          "output_type": "stream",
          "text": [
            "Class: ['no-recurrence-events' 'recurrence-events']\n",
            "age: ['30-39' '40-49' '60-69' '50-59' '70-79' '20-29']\n",
            "menopause: ['premeno' 'ge40' 'lt40']\n",
            "tumor-size: ['30-34' '20-24' '15-19' '0-4' '25-29' '50-54' '10-14' '40-44' '35-39'\n",
            " '5-9' '45-49']\n",
            "inv-nodes: ['0-2' '6-8' '9-11' '3-5' '15-17' '12-14' '24-26']\n",
            "node-caps: ['no' 'yes' '?']\n",
            "deg-malig: [3 2 1]\n",
            "breast: ['left' 'right']\n",
            "breast-quad: ['left_low' 'right_up' 'left_up' 'right_low' 'central' '?']\n",
            "irradiat: ['no' 'yes']\n"
          ]
        }
      ],
      "source": [
        "for col in df.columns:\n",
        "    print(f'{col}: {df[col].unique()}')"
      ]
    },
    {
      "cell_type": "markdown",
      "metadata": {
        "id": "zLW3hmYEfYf5"
      },
      "source": [
        "### 🛠 Procesamiento y transformación de datos 🔧"
      ]
    },
    {
      "cell_type": "code",
      "execution_count": 13,
      "metadata": {
        "id": "J2qpoBwGfYf5"
      },
      "outputs": [],
      "source": [
        "from sklearn.impute import SimpleImputer"
      ]
    },
    {
      "cell_type": "code",
      "execution_count": 22,
      "metadata": {
        "id": "XJxiJOU-fYf6"
      },
      "outputs": [],
      "source": [
        "#inicializo el modelo\n",
        "imputer = SimpleImputer(missing_values='?',strategy='most_frequent') "
      ]
    },
    {
      "cell_type": "code",
      "execution_count": 23,
      "metadata": {
        "id": "c1waN5GgfYf6"
      },
      "outputs": [],
      "source": [
        "df['node-caps'] = pd.DataFrame(imputer.fit_transform(df[['node-caps']]))"
      ]
    },
    {
      "cell_type": "code",
      "execution_count": 24,
      "metadata": {
        "id": "xM6mxPCHfYf6"
      },
      "outputs": [
        {
          "data": {
            "text/plain": [
              "<Axes: xlabel='node-caps', ylabel='count'>"
            ]
          },
          "execution_count": 24,
          "metadata": {},
          "output_type": "execute_result"
        },
        {
          "data": {
            "image/png": "[encoded data removed]",
            "text/plain": [
              "<Figure size 640x480 with 1 Axes>"
            ]
          },
          "metadata": {},
          "output_type": "display_data"
        }
      ],
      "source": [
        "#visualizar si se reemplazo por valores mas frecuentes\n",
        "sns.countplot(x='node-caps', data=df)"
      ]
    },
    {
      "cell_type": "code",
      "execution_count": 25,
      "metadata": {},
      "outputs": [],
      "source": [
        "df['breast-quad'] = pd.DataFrame(imputer.fit_transform(df[['breast-quad']]))"
      ]
    },
    {
      "cell_type": "code",
      "execution_count": 26,
      "metadata": {},
      "outputs": [
        {
          "data": {
            "text/plain": [
              "<Axes: xlabel='breast-quad', ylabel='count'>"
            ]
          },
          "execution_count": 26,
          "metadata": {},
          "output_type": "execute_result"
        },
        {
          "data": {
            "image/png": "[encoded data removed]",
            "text/plain": [
              "<Figure size 640x480 with 1 Axes>"
            ]
          },
          "metadata": {},
          "output_type": "display_data"
        }
      ],
      "source": [
        "sns.countplot(x='breast-quad', data=df)"
      ]
    },
    {
      "cell_type": "markdown",
      "metadata": {
        "id": "BWDsZj7vfYf6"
      },
      "source": [
        "#### Seleccion de target (y) y variables (X)"
      ]
    },
    {
      "cell_type": "code",
      "execution_count": 27,
      "metadata": {
        "id": "S6FiSjZUfYf7"
      },
      "outputs": [
        {
          "data": {
            "text/html": [
              "<div>\n",
              "<style scoped>\n",
              "    .dataframe tbody tr th:only-of-type {\n",
              "        vertical-align: middle;\n",
              "    }\n",
              "\n",
              "    .dataframe tbody tr th {\n",
              "        vertical-align: top;\n",
              "    }\n",
              "\n",
              "    .dataframe thead th {\n",
              "        text-align: right;\n",
              "    }\n",
              "</style>\n",
              "<table border=\"1\" class=\"dataframe\">\n",
              "  <thead>\n",
              "    <tr style=\"text-align: right;\">\n",
              "      <th></th>\n",
              "      <th>Class</th>\n",
              "      <th>age</th>\n",
              "      <th>menopause</th>\n",
              "      <th>tumor-size</th>\n",
              "      <th>inv-nodes</th>\n",
              "      <th>node-caps</th>\n",
              "      <th>deg-malig</th>\n",
              "      <th>breast</th>\n",
              "      <th>breast-quad</th>\n",
              "      <th>irradiat</th>\n",
              "    </tr>\n",
              "  </thead>\n",
              "  <tbody>\n",
              "    <tr>\n",
              "      <th>count</th>\n",
              "      <td>286</td>\n",
              "      <td>286</td>\n",
              "      <td>286</td>\n",
              "      <td>286</td>\n",
              "      <td>286</td>\n",
              "      <td>286</td>\n",
              "      <td>286</td>\n",
              "      <td>286</td>\n",
              "      <td>286</td>\n",
              "      <td>286</td>\n",
              "    </tr>\n",
              "    <tr>\n",
              "      <th>unique</th>\n",
              "      <td>2</td>\n",
              "      <td>6</td>\n",
              "      <td>3</td>\n",
              "      <td>11</td>\n",
              "      <td>7</td>\n",
              "      <td>2</td>\n",
              "      <td>3</td>\n",
              "      <td>2</td>\n",
              "      <td>5</td>\n",
              "      <td>2</td>\n",
              "    </tr>\n",
              "    <tr>\n",
              "      <th>top</th>\n",
              "      <td>no-recurrence-events</td>\n",
              "      <td>50-59</td>\n",
              "      <td>premeno</td>\n",
              "      <td>30-34</td>\n",
              "      <td>0-2</td>\n",
              "      <td>no</td>\n",
              "      <td>2</td>\n",
              "      <td>left</td>\n",
              "      <td>left_low</td>\n",
              "      <td>no</td>\n",
              "    </tr>\n",
              "    <tr>\n",
              "      <th>freq</th>\n",
              "      <td>201</td>\n",
              "      <td>96</td>\n",
              "      <td>150</td>\n",
              "      <td>60</td>\n",
              "      <td>213</td>\n",
              "      <td>230</td>\n",
              "      <td>130</td>\n",
              "      <td>152</td>\n",
              "      <td>111</td>\n",
              "      <td>218</td>\n",
              "    </tr>\n",
              "  </tbody>\n",
              "</table>\n",
              "</div>"
            ],
            "text/plain": [
              "                       Class    age menopause tumor-size inv-nodes node-caps  \\\n",
              "count                    286    286       286        286       286       286   \n",
              "unique                     2      6         3         11         7         2   \n",
              "top     no-recurrence-events  50-59   premeno      30-34       0-2        no   \n",
              "freq                     201     96       150         60       213       230   \n",
              "\n",
              "        deg-malig breast breast-quad irradiat  \n",
              "count         286    286         286      286  \n",
              "unique          3      2           5        2  \n",
              "top             2   left    left_low       no  \n",
              "freq          130    152         111      218  "
            ]
          },
          "execution_count": 27,
          "metadata": {},
          "output_type": "execute_result"
        }
      ],
      "source": [
        "df.describe()"
      ]
    },
    {
      "cell_type": "code",
      "execution_count": null,
      "metadata": {},
      "outputs": [],
      "source": []
    },
    {
      "cell_type": "code",
      "execution_count": null,
      "metadata": {},
      "outputs": [],
      "source": []
    },
    {
      "cell_type": "code",
      "execution_count": null,
      "metadata": {},
      "outputs": [],
      "source": []
    },
    {
      "cell_type": "markdown",
      "metadata": {
        "id": "48jWXvAyfYf7"
      },
      "source": [
        "#### Separando Train / Test"
      ]
    },
    {
      "cell_type": "code",
      "execution_count": null,
      "metadata": {
        "id": "NVyl_p73fYf8"
      },
      "outputs": [],
      "source": []
    },
    {
      "cell_type": "code",
      "execution_count": null,
      "metadata": {
        "id": "dHAthAzRfYf8"
      },
      "outputs": [],
      "source": []
    },
    {
      "cell_type": "code",
      "execution_count": null,
      "metadata": {
        "id": "E9rMUrXtfYf8"
      },
      "outputs": [],
      "source": []
    },
    {
      "cell_type": "code",
      "execution_count": null,
      "metadata": {
        "id": "lydwcdY6fYf8"
      },
      "outputs": [],
      "source": []
    },
    {
      "cell_type": "markdown",
      "metadata": {
        "id": "Y4LEtYRvfYf8"
      },
      "source": [
        "#### Clasificador KNN"
      ]
    },
    {
      "cell_type": "code",
      "execution_count": null,
      "metadata": {
        "id": "14VvCLkTfYf9"
      },
      "outputs": [],
      "source": []
    },
    {
      "cell_type": "code",
      "execution_count": null,
      "metadata": {
        "id": "pjEnVfqnfYf9"
      },
      "outputs": [],
      "source": []
    },
    {
      "cell_type": "code",
      "execution_count": null,
      "metadata": {
        "id": "9Hm_3zk4fYf9"
      },
      "outputs": [],
      "source": []
    },
    {
      "cell_type": "markdown",
      "metadata": {
        "id": "PqDK8_azfYf9"
      },
      "source": [
        "#### Clasificador RandomForest"
      ]
    },
    {
      "cell_type": "code",
      "execution_count": null,
      "metadata": {
        "id": "n4236cO3fYf9"
      },
      "outputs": [],
      "source": []
    },
    {
      "cell_type": "code",
      "execution_count": null,
      "metadata": {
        "id": "qHv9nDLlfYf9"
      },
      "outputs": [],
      "source": []
    },
    {
      "cell_type": "markdown",
      "metadata": {
        "id": "77TZm8vZfYgB"
      },
      "source": [
        "#### Evaluación de los modelos"
      ]
    },
    {
      "cell_type": "code",
      "execution_count": null,
      "metadata": {
        "id": "AVAQeQfdfYgC"
      },
      "outputs": [],
      "source": []
    },
    {
      "cell_type": "code",
      "execution_count": null,
      "metadata": {
        "id": "3T3GpVrXfYgC"
      },
      "outputs": [],
      "source": []
    },
    {
      "cell_type": "code",
      "execution_count": null,
      "metadata": {
        "id": "-DJvO5gzfYgC"
      },
      "outputs": [],
      "source": []
    },
    {
      "cell_type": "code",
      "execution_count": null,
      "metadata": {
        "id": "LjRI3-wRfYgC"
      },
      "outputs": [],
      "source": []
    }
  ],
  "metadata": {
    "colab": {
      "collapsed_sections": [
        "BWDsZj7vfYf6",
        "48jWXvAyfYf7",
        "Y4LEtYRvfYf8",
        "PqDK8_azfYf9",
        "77TZm8vZfYgB"
      ],
      "provenance": []
    },
    "kernelspec": {
      "display_name": "Python 3",
      "language": "python",
      "name": "python3"
    },
    "language_info": {
      "codemirror_mode": {
        "name": "ipython",
        "version": 3
      },
      "file_extension": ".py",
      "mimetype": "text/x-python",
      "name": "python",
      "nbconvert_exporter": "python",
      "pygments_lexer": "ipython3",
      "version": "3.13.3"
    }
  },
  "nbformat": 4,
  "nbformat_minor": 0
}
