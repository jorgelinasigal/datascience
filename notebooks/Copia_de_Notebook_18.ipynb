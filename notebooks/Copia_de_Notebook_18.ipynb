{
  "cells": [
    {
      "cell_type": "markdown",
      "metadata": {
        "id": "hAipadortrs1"
      },
      "source": [
        "\n",
        "# Programa Ingenia+ Data Science"
      ]
    },
    {
      "cell_type": "markdown",
      "metadata": {
        "id": "h2Fw5rW4trs6"
      },
      "source": [
        "Recordemos que un proyecto de data science tiene varias etapas:\n",
        "\n",
        "1. Recolección de Datos\n",
        "2. Exploración y Procesamiento de los datos\n",
        "3. Modelado\n",
        "4. Puesta en Producción\n",
        "\n",
        "En clases anteriores, trabajamos con el dataset `StudentPerformace`. Pudimos observar el tipo de datos que teniamos y le hiciemos algunas transformaciones."
      ]
    },
    {
      "cell_type": "markdown",
      "metadata": {
        "id": "e82i9xLWtrs8"
      },
      "source": [
        "<font size=5> 🚀 👩🏽‍💻 Machine Learning: Aprendizaje Supervisado 📣</font>"
      ]
    },
    {
      "cell_type": "code",
      "execution_count": 1,
      "metadata": {
        "id": "kq0OfMBEtrs8"
      },
      "outputs": [],
      "source": [
        "import pandas as pd\n",
        "import numpy as np\n",
        "import matplotlib.pyplot as plt\n",
        "import seaborn as sns\n",
        "import matplotlib.cm as cm"
      ]
    },
    {
      "cell_type": "code",
      "execution_count": null,
      "metadata": {
        "id": "yIm3SGfUtrtF"
      },
      "outputs": [],
      "source": [
        "# Importamos la librearia para separar el dataset.\n",
        "from sklearn.model_selection import train_test_split"
      ]
    },
    {
      "cell_type": "code",
      "execution_count": null,
      "metadata": {
        "id": "9oSXXy4strtG"
      },
      "outputs": [],
      "source": [
        "from sklearn.ensemble import RandomForestRegressor"
      ]
    },
    {
      "cell_type": "code",
      "execution_count": null,
      "metadata": {
        "id": "ZrABtqLAtrtG"
      },
      "outputs": [],
      "source": [
        "from sklearn.metrics import mean_absolute_error"
      ]
    },
    {
      "cell_type": "code",
      "execution_count": null,
      "metadata": {
        "id": "qh9R97VduC1I"
      },
      "outputs": [],
      "source": [
        "from sklearn.neighbors import KNeighborsClassifier"
      ]
    },
    {
      "cell_type": "code",
      "execution_count": null,
      "metadata": {
        "id": "5INo2AI_trs_"
      },
      "outputs": [],
      "source": [
        "# Leemos nuevamente los datos de los estudiantes\n",
        "students = pd.read_csv('/content/estudiantes_limpio.csv')"
      ]
    },
    {
      "cell_type": "code",
      "execution_count": null,
      "metadata": {
        "id": "SIJoXs9btrtC"
      },
      "outputs": [],
      "source": [
        "students['puntaje_final'] = (students['math score'] + students['reading score'] + students['writing score']) / 3"
      ]
    },
    {
      "cell_type": "code",
      "execution_count": null,
      "metadata": {
        "colab": {
          "base_uri": "https://localhost:8080/",
          "height": 261
        },
        "id": "0fhI4dpSGS1z",
        "outputId": "b7497ec1-72b7-4e65-cf26-82402e2d5f0d"
      },
      "outputs": [
        {
          "data": {
            "application/vnd.google.colaboratory.intrinsic+json": {
              "summary": "{\n  \"name\": \"students\",\n  \"rows\": 1000,\n  \"fields\": [\n    {\n      \"column\": \"race/ethnicity\",\n      \"properties\": {\n        \"dtype\": \"number\",\n        \"std\": 1,\n        \"min\": 0,\n        \"max\": 4,\n        \"num_unique_values\": 5,\n        \"samples\": [\n          2,\n          4,\n          0\n        ],\n        \"semantic_type\": \"\",\n        \"description\": \"\"\n      }\n    },\n    {\n      \"column\": \"lunch\",\n      \"properties\": {\n        \"dtype\": \"number\",\n        \"std\": 0,\n        \"min\": 0,\n        \"max\": 1,\n        \"num_unique_values\": 2,\n        \"samples\": [\n          0,\n          1\n        ],\n        \"semantic_type\": \"\",\n        \"description\": \"\"\n      }\n    },\n    {\n      \"column\": \"test preparation course\",\n      \"properties\": {\n        \"dtype\": \"number\",\n        \"std\": 0,\n        \"min\": 0,\n        \"max\": 1,\n        \"num_unique_values\": 2,\n        \"samples\": [\n          0,\n          1\n        ],\n        \"semantic_type\": \"\",\n        \"description\": \"\"\n      }\n    },\n    {\n      \"column\": \"math score\",\n      \"properties\": {\n        \"dtype\": \"number\",\n        \"std\": 15.163080096009468,\n        \"min\": 0.0,\n        \"max\": 100.0,\n        \"num_unique_values\": 81,\n        \"samples\": [\n          55.0,\n          72.0\n        ],\n        \"semantic_type\": \"\",\n        \"description\": \"\"\n      }\n    },\n    {\n      \"column\": \"reading score\",\n      \"properties\": {\n        \"dtype\": \"number\",\n        \"std\": 14,\n        \"min\": 17,\n        \"max\": 100,\n        \"num_unique_values\": 72,\n        \"samples\": [\n          78,\n          23\n        ],\n        \"semantic_type\": \"\",\n        \"description\": \"\"\n      }\n    },\n    {\n      \"column\": \"writing score\",\n      \"properties\": {\n        \"dtype\": \"number\",\n        \"std\": 15,\n        \"min\": 10,\n        \"max\": 100,\n        \"num_unique_values\": 77,\n        \"samples\": [\n          75,\n          76\n        ],\n        \"semantic_type\": \"\",\n        \"description\": \"\"\n      }\n    },\n    {\n      \"column\": \"english score\",\n      \"properties\": {\n        \"dtype\": \"number\",\n        \"std\": 14.727923461217449,\n        \"min\": 13.5,\n        \"max\": 100.0,\n        \"num_unique_values\": 138,\n        \"samples\": [\n          76.0,\n          86.0\n        ],\n        \"semantic_type\": \"\",\n        \"description\": \"\"\n      }\n    },\n    {\n      \"column\": \"female\",\n      \"properties\": {\n        \"dtype\": \"number\",\n        \"std\": 0,\n        \"min\": 0,\n        \"max\": 1,\n        \"num_unique_values\": 2,\n        \"samples\": [\n          0,\n          1\n        ],\n        \"semantic_type\": \"\",\n        \"description\": \"\"\n      }\n    },\n    {\n      \"column\": \"male\",\n      \"properties\": {\n        \"dtype\": \"number\",\n        \"std\": 0,\n        \"min\": 0,\n        \"max\": 1,\n        \"num_unique_values\": 2,\n        \"samples\": [\n          1,\n          0\n        ],\n        \"semantic_type\": \"\",\n        \"description\": \"\"\n      }\n    },\n    {\n      \"column\": \"associate's degree\",\n      \"properties\": {\n        \"dtype\": \"number\",\n        \"std\": 0,\n        \"min\": 0,\n        \"max\": 1,\n        \"num_unique_values\": 2,\n        \"samples\": [\n          1,\n          0\n        ],\n        \"semantic_type\": \"\",\n        \"description\": \"\"\n      }\n    },\n    {\n      \"column\": \"bachelor's degree\",\n      \"properties\": {\n        \"dtype\": \"number\",\n        \"std\": 0,\n        \"min\": 0,\n        \"max\": 1,\n        \"num_unique_values\": 2,\n        \"samples\": [\n          0,\n          1\n        ],\n        \"semantic_type\": \"\",\n        \"description\": \"\"\n      }\n    },\n    {\n      \"column\": \"high school\",\n      \"properties\": {\n        \"dtype\": \"number\",\n        \"std\": 0,\n        \"min\": 0,\n        \"max\": 1,\n        \"num_unique_values\": 2,\n        \"samples\": [\n          1,\n          0\n        ],\n        \"semantic_type\": \"\",\n        \"description\": \"\"\n      }\n    },\n    {\n      \"column\": \"master's degree\",\n      \"properties\": {\n        \"dtype\": \"number\",\n        \"std\": 0,\n        \"min\": 0,\n        \"max\": 1,\n        \"num_unique_values\": 2,\n        \"samples\": [\n          1,\n          0\n        ],\n        \"semantic_type\": \"\",\n        \"description\": \"\"\n      }\n    },\n    {\n      \"column\": \"some college\",\n      \"properties\": {\n        \"dtype\": \"number\",\n        \"std\": 0,\n        \"min\": 0,\n        \"max\": 1,\n        \"num_unique_values\": 2,\n        \"samples\": [\n          1,\n          0\n        ],\n        \"semantic_type\": \"\",\n        \"description\": \"\"\n      }\n    },\n    {\n      \"column\": \"some high school\",\n      \"properties\": {\n        \"dtype\": \"number\",\n        \"std\": 0,\n        \"min\": 0,\n        \"max\": 1,\n        \"num_unique_values\": 2,\n        \"samples\": [\n          1,\n          0\n        ],\n        \"semantic_type\": \"\",\n        \"description\": \"\"\n      }\n    },\n    {\n      \"column\": \"puntaje_final\",\n      \"properties\": {\n        \"dtype\": \"number\",\n        \"std\": 14.257325984669153,\n        \"min\": 9.0,\n        \"max\": 100.0,\n        \"num_unique_values\": 194,\n        \"samples\": [\n          83.33333333333333,\n          26.0\n        ],\n        \"semantic_type\": \"\",\n        \"description\": \"\"\n      }\n    },\n    {\n      \"column\": \"aprobado\",\n      \"properties\": {\n        \"dtype\": \"number\",\n        \"std\": 0,\n        \"min\": 0,\n        \"max\": 1,\n        \"num_unique_values\": 2,\n        \"samples\": [\n          0,\n          1\n        ],\n        \"semantic_type\": \"\",\n        \"description\": \"\"\n      }\n    }\n  ]\n}",
              "type": "dataframe",
              "variable_name": "students"
            },
            "text/html": [
              "\n",
              "  <div id=\"df-116d27a8-3253-4429-a4bb-16afebcec11b\" class=\"colab-df-container\">\n",
              "    <div>\n",
              "<style scoped>\n",
              "    .dataframe tbody tr th:only-of-type {\n",
              "        vertical-align: middle;\n",
              "    }\n",
              "\n",
              "    .dataframe tbody tr th {\n",
              "        vertical-align: top;\n",
              "    }\n",
              "\n",
              "    .dataframe thead th {\n",
              "        text-align: right;\n",
              "    }\n",
              "</style>\n",
              "<table border=\"1\" class=\"dataframe\">\n",
              "  <thead>\n",
              "    <tr style=\"text-align: right;\">\n",
              "      <th></th>\n",
              "      <th>race/ethnicity</th>\n",
              "      <th>lunch</th>\n",
              "      <th>test preparation course</th>\n",
              "      <th>math score</th>\n",
              "      <th>reading score</th>\n",
              "      <th>writing score</th>\n",
              "      <th>english score</th>\n",
              "      <th>female</th>\n",
              "      <th>male</th>\n",
              "      <th>associate's degree</th>\n",
              "      <th>bachelor's degree</th>\n",
              "      <th>high school</th>\n",
              "      <th>master's degree</th>\n",
              "      <th>some college</th>\n",
              "      <th>some high school</th>\n",
              "      <th>puntaje_final</th>\n",
              "      <th>aprobado</th>\n",
              "    </tr>\n",
              "  </thead>\n",
              "  <tbody>\n",
              "    <tr>\n",
              "      <th>0</th>\n",
              "      <td>1</td>\n",
              "      <td>1</td>\n",
              "      <td>1</td>\n",
              "      <td>72.0</td>\n",
              "      <td>72</td>\n",
              "      <td>74</td>\n",
              "      <td>73.0</td>\n",
              "      <td>1</td>\n",
              "      <td>0</td>\n",
              "      <td>0</td>\n",
              "      <td>1</td>\n",
              "      <td>0</td>\n",
              "      <td>0</td>\n",
              "      <td>0</td>\n",
              "      <td>0</td>\n",
              "      <td>72.666667</td>\n",
              "      <td>1</td>\n",
              "    </tr>\n",
              "    <tr>\n",
              "      <th>1</th>\n",
              "      <td>2</td>\n",
              "      <td>1</td>\n",
              "      <td>0</td>\n",
              "      <td>69.0</td>\n",
              "      <td>90</td>\n",
              "      <td>88</td>\n",
              "      <td>89.0</td>\n",
              "      <td>1</td>\n",
              "      <td>0</td>\n",
              "      <td>0</td>\n",
              "      <td>0</td>\n",
              "      <td>0</td>\n",
              "      <td>0</td>\n",
              "      <td>1</td>\n",
              "      <td>0</td>\n",
              "      <td>82.333333</td>\n",
              "      <td>1</td>\n",
              "    </tr>\n",
              "    <tr>\n",
              "      <th>2</th>\n",
              "      <td>1</td>\n",
              "      <td>1</td>\n",
              "      <td>1</td>\n",
              "      <td>90.0</td>\n",
              "      <td>95</td>\n",
              "      <td>93</td>\n",
              "      <td>94.0</td>\n",
              "      <td>1</td>\n",
              "      <td>0</td>\n",
              "      <td>0</td>\n",
              "      <td>0</td>\n",
              "      <td>0</td>\n",
              "      <td>1</td>\n",
              "      <td>0</td>\n",
              "      <td>0</td>\n",
              "      <td>92.666667</td>\n",
              "      <td>1</td>\n",
              "    </tr>\n",
              "    <tr>\n",
              "      <th>3</th>\n",
              "      <td>0</td>\n",
              "      <td>0</td>\n",
              "      <td>1</td>\n",
              "      <td>47.0</td>\n",
              "      <td>57</td>\n",
              "      <td>44</td>\n",
              "      <td>50.5</td>\n",
              "      <td>0</td>\n",
              "      <td>1</td>\n",
              "      <td>1</td>\n",
              "      <td>0</td>\n",
              "      <td>0</td>\n",
              "      <td>0</td>\n",
              "      <td>0</td>\n",
              "      <td>0</td>\n",
              "      <td>49.333333</td>\n",
              "      <td>0</td>\n",
              "    </tr>\n",
              "    <tr>\n",
              "      <th>4</th>\n",
              "      <td>2</td>\n",
              "      <td>1</td>\n",
              "      <td>1</td>\n",
              "      <td>76.0</td>\n",
              "      <td>78</td>\n",
              "      <td>75</td>\n",
              "      <td>76.5</td>\n",
              "      <td>0</td>\n",
              "      <td>1</td>\n",
              "      <td>0</td>\n",
              "      <td>0</td>\n",
              "      <td>0</td>\n",
              "      <td>0</td>\n",
              "      <td>1</td>\n",
              "      <td>0</td>\n",
              "      <td>76.333333</td>\n",
              "      <td>1</td>\n",
              "    </tr>\n",
              "  </tbody>\n",
              "</table>\n",
              "</div>\n",
              "    <div class=\"colab-df-buttons\">\n",
              "\n",
              "  <div class=\"colab-df-container\">\n",
              "    <button class=\"colab-df-convert\" onclick=\"convertToInteractive('df-116d27a8-3253-4429-a4bb-16afebcec11b')\"\n",
              "            title=\"Convert this dataframe to an interactive table.\"\n",
              "            style=\"display:none;\">\n",
              "\n",
              "  <svg xmlns=\"http://www.w3.org/2000/svg\" height=\"24px\" viewBox=\"0 -960 960 960\">\n",
              "    <path d=\"M120-120v-720h720v720H120Zm60-500h600v-160H180v160Zm220 220h160v-160H400v160Zm0 220h160v-160H400v160ZM180-400h160v-160H180v160Zm440 0h160v-160H620v160ZM180-180h160v-160H180v160Zm440 0h160v-160H620v160Z\"/>\n",
              "  </svg>\n",
              "    </button>\n",
              "\n",
              "  <style>\n",
              "    .colab-df-container {\n",
              "      display:flex;\n",
              "      gap: 12px;\n",
              "    }\n",
              "\n",
              "    .colab-df-convert {\n",
              "      background-color: #E8F0FE;\n",
              "      border: none;\n",
              "      border-radius: 50%;\n",
              "      cursor: pointer;\n",
              "      display: none;\n",
              "      fill: #1967D2;\n",
              "      height: 32px;\n",
              "      padding: 0 0 0 0;\n",
              "      width: 32px;\n",
              "    }\n",
              "\n",
              "    .colab-df-convert:hover {\n",
              "      background-color: #E2EBFA;\n",
              "      box-shadow: 0px 1px 2px rgba(60, 64, 67, 0.3), 0px 1px 3px 1px rgba(60, 64, 67, 0.15);\n",
              "      fill: #174EA6;\n",
              "    }\n",
              "\n",
              "    .colab-df-buttons div {\n",
              "      margin-bottom: 4px;\n",
              "    }\n",
              "\n",
              "    [theme=dark] .colab-df-convert {\n",
              "      background-color: #3B4455;\n",
              "      fill: #D2E3FC;\n",
              "    }\n",
              "\n",
              "    [theme=dark] .colab-df-convert:hover {\n",
              "      background-color: #434B5C;\n",
              "      box-shadow: 0px 1px 3px 1px rgba(0, 0, 0, 0.15);\n",
              "      filter: drop-shadow(0px 1px 2px rgba(0, 0, 0, 0.3));\n",
              "      fill: #FFFFFF;\n",
              "    }\n",
              "  </style>\n",
              "\n",
              "    <script>\n",
              "      const buttonEl =\n",
              "        document.querySelector('#df-116d27a8-3253-4429-a4bb-16afebcec11b button.colab-df-convert');\n",
              "      buttonEl.style.display =\n",
              "        google.colab.kernel.accessAllowed ? 'block' : 'none';\n",
              "\n",
              "      async function convertToInteractive(key) {\n",
              "        const element = document.querySelector('#df-116d27a8-3253-4429-a4bb-16afebcec11b');\n",
              "        const dataTable =\n",
              "          await google.colab.kernel.invokeFunction('convertToInteractive',\n",
              "                                                    [key], {});\n",
              "        if (!dataTable) return;\n",
              "\n",
              "        const docLinkHtml = 'Like what you see? Visit the ' +\n",
              "          '<a target=\"_blank\" href=https://colab.research.google.com/notebooks/data_table.ipynb>data table notebook</a>'\n",
              "          + ' to learn more about interactive tables.';\n",
              "        element.innerHTML = '';\n",
              "        dataTable['output_type'] = 'display_data';\n",
              "        await google.colab.output.renderOutput(dataTable, element);\n",
              "        const docLink = document.createElement('div');\n",
              "        docLink.innerHTML = docLinkHtml;\n",
              "        element.appendChild(docLink);\n",
              "      }\n",
              "    </script>\n",
              "  </div>\n",
              "\n",
              "\n",
              "    <div id=\"df-ef76b4b1-ea15-4dcc-8c01-00ca1a9f3413\">\n",
              "      <button class=\"colab-df-quickchart\" onclick=\"quickchart('df-ef76b4b1-ea15-4dcc-8c01-00ca1a9f3413')\"\n",
              "                title=\"Suggest charts\"\n",
              "                style=\"display:none;\">\n",
              "\n",
              "<svg xmlns=\"http://www.w3.org/2000/svg\" height=\"24px\"viewBox=\"0 0 24 24\"\n",
              "     width=\"24px\">\n",
              "    <g>\n",
              "        <path d=\"M19 3H5c-1.1 0-2 .9-2 2v14c0 1.1.9 2 2 2h14c1.1 0 2-.9 2-2V5c0-1.1-.9-2-2-2zM9 17H7v-7h2v7zm4 0h-2V7h2v10zm4 0h-2v-4h2v4z\"/>\n",
              "    </g>\n",
              "</svg>\n",
              "      </button>\n",
              "\n",
              "<style>\n",
              "  .colab-df-quickchart {\n",
              "      --bg-color: #E8F0FE;\n",
              "      --fill-color: #1967D2;\n",
              "      --hover-bg-color: #E2EBFA;\n",
              "      --hover-fill-color: #174EA6;\n",
              "      --disabled-fill-color: #AAA;\n",
              "      --disabled-bg-color: #DDD;\n",
              "  }\n",
              "\n",
              "  [theme=dark] .colab-df-quickchart {\n",
              "      --bg-color: #3B4455;\n",
              "      --fill-color: #D2E3FC;\n",
              "      --hover-bg-color: #434B5C;\n",
              "      --hover-fill-color: #FFFFFF;\n",
              "      --disabled-bg-color: #3B4455;\n",
              "      --disabled-fill-color: #666;\n",
              "  }\n",
              "\n",
              "  .colab-df-quickchart {\n",
              "    background-color: var(--bg-color);\n",
              "    border: none;\n",
              "    border-radius: 50%;\n",
              "    cursor: pointer;\n",
              "    display: none;\n",
              "    fill: var(--fill-color);\n",
              "    height: 32px;\n",
              "    padding: 0;\n",
              "    width: 32px;\n",
              "  }\n",
              "\n",
              "  .colab-df-quickchart:hover {\n",
              "    background-color: var(--hover-bg-color);\n",
              "    box-shadow: 0 1px 2px rgba(60, 64, 67, 0.3), 0 1px 3px 1px rgba(60, 64, 67, 0.15);\n",
              "    fill: var(--button-hover-fill-color);\n",
              "  }\n",
              "\n",
              "  .colab-df-quickchart-complete:disabled,\n",
              "  .colab-df-quickchart-complete:disabled:hover {\n",
              "    background-color: var(--disabled-bg-color);\n",
              "    fill: var(--disabled-fill-color);\n",
              "    box-shadow: none;\n",
              "  }\n",
              "\n",
              "  .colab-df-spinner {\n",
              "    border: 2px solid var(--fill-color);\n",
              "    border-color: transparent;\n",
              "    border-bottom-color: var(--fill-color);\n",
              "    animation:\n",
              "      spin 1s steps(1) infinite;\n",
              "  }\n",
              "\n",
              "  @keyframes spin {\n",
              "    0% {\n",
              "      border-color: transparent;\n",
              "      border-bottom-color: var(--fill-color);\n",
              "      border-left-color: var(--fill-color);\n",
              "    }\n",
              "    20% {\n",
              "      border-color: transparent;\n",
              "      border-left-color: var(--fill-color);\n",
              "      border-top-color: var(--fill-color);\n",
              "    }\n",
              "    30% {\n",
              "      border-color: transparent;\n",
              "      border-left-color: var(--fill-color);\n",
              "      border-top-color: var(--fill-color);\n",
              "      border-right-color: var(--fill-color);\n",
              "    }\n",
              "    40% {\n",
              "      border-color: transparent;\n",
              "      border-right-color: var(--fill-color);\n",
              "      border-top-color: var(--fill-color);\n",
              "    }\n",
              "    60% {\n",
              "      border-color: transparent;\n",
              "      border-right-color: var(--fill-color);\n",
              "    }\n",
              "    80% {\n",
              "      border-color: transparent;\n",
              "      border-right-color: var(--fill-color);\n",
              "      border-bottom-color: var(--fill-color);\n",
              "    }\n",
              "    90% {\n",
              "      border-color: transparent;\n",
              "      border-bottom-color: var(--fill-color);\n",
              "    }\n",
              "  }\n",
              "</style>\n",
              "\n",
              "      <script>\n",
              "        async function quickchart(key) {\n",
              "          const quickchartButtonEl =\n",
              "            document.querySelector('#' + key + ' button');\n",
              "          quickchartButtonEl.disabled = true;  // To prevent multiple clicks.\n",
              "          quickchartButtonEl.classList.add('colab-df-spinner');\n",
              "          try {\n",
              "            const charts = await google.colab.kernel.invokeFunction(\n",
              "                'suggestCharts', [key], {});\n",
              "          } catch (error) {\n",
              "            console.error('Error during call to suggestCharts:', error);\n",
              "          }\n",
              "          quickchartButtonEl.classList.remove('colab-df-spinner');\n",
              "          quickchartButtonEl.classList.add('colab-df-quickchart-complete');\n",
              "        }\n",
              "        (() => {\n",
              "          let quickchartButtonEl =\n",
              "            document.querySelector('#df-ef76b4b1-ea15-4dcc-8c01-00ca1a9f3413 button');\n",
              "          quickchartButtonEl.style.display =\n",
              "            google.colab.kernel.accessAllowed ? 'block' : 'none';\n",
              "        })();\n",
              "      </script>\n",
              "    </div>\n",
              "\n",
              "    </div>\n",
              "  </div>\n"
            ],
            "text/plain": [
              "   race/ethnicity  lunch  test preparation course  math score  reading score  \\\n",
              "0               1      1                        1        72.0             72   \n",
              "1               2      1                        0        69.0             90   \n",
              "2               1      1                        1        90.0             95   \n",
              "3               0      0                        1        47.0             57   \n",
              "4               2      1                        1        76.0             78   \n",
              "\n",
              "   writing score  english score  female  male  associate's degree  \\\n",
              "0             74           73.0       1     0                   0   \n",
              "1             88           89.0       1     0                   0   \n",
              "2             93           94.0       1     0                   0   \n",
              "3             44           50.5       0     1                   1   \n",
              "4             75           76.5       0     1                   0   \n",
              "\n",
              "   bachelor's degree  high school  master's degree  some college  \\\n",
              "0                  1            0                0             0   \n",
              "1                  0            0                0             1   \n",
              "2                  0            0                1             0   \n",
              "3                  0            0                0             0   \n",
              "4                  0            0                0             1   \n",
              "\n",
              "   some high school  puntaje_final  aprobado  \n",
              "0                 0      72.666667         1  \n",
              "1                 0      82.333333         1  \n",
              "2                 0      92.666667         1  \n",
              "3                 0      49.333333         0  \n",
              "4                 0      76.333333         1  "
            ]
          },
          "execution_count": 75,
          "metadata": {},
          "output_type": "execute_result"
        }
      ],
      "source": [
        "students.head()"
      ]
    },
    {
      "cell_type": "code",
      "execution_count": null,
      "metadata": {
        "colab": {
          "base_uri": "https://localhost:8080/"
        },
        "id": "jsjTNs-LGp83",
        "outputId": "f355e244-ce3b-4aca-f936-03c43aeb6c7e"
      },
      "outputs": [
        {
          "data": {
            "text/plain": [
              "(1000, 17)"
            ]
          },
          "execution_count": 76,
          "metadata": {},
          "output_type": "execute_result"
        }
      ],
      "source": [
        "students.shape"
      ]
    },
    {
      "cell_type": "markdown",
      "metadata": {
        "id": "mYW1nWOQtrtH"
      },
      "source": [
        "## Evaluación del modelo de regresión"
      ]
    },
    {
      "cell_type": "code",
      "execution_count": null,
      "metadata": {
        "id": "n26RPfDktrtD"
      },
      "outputs": [],
      "source": [
        "# Elimino aquellas variables que no quiero incluir en el modelo y las guardo en x.\n",
        "x = students.drop(['math score', 'reading score', 'writing score', 'puntaje_final'],\n",
        "                  axis=1)"
      ]
    },
    {
      "cell_type": "code",
      "execution_count": null,
      "metadata": {
        "id": "lBf0JdxUtrtE"
      },
      "outputs": [],
      "source": [
        "# Ahora selecciono las etiquetas y las guardo en y.\n",
        "y = students['puntaje_final']"
      ]
    },
    {
      "cell_type": "code",
      "execution_count": null,
      "metadata": {
        "id": "3Ewo1kUBtrtE"
      },
      "outputs": [],
      "source": [
        "x, y = np.array(x), np.array(y)"
      ]
    },
    {
      "cell_type": "code",
      "execution_count": null,
      "metadata": {
        "id": "AdXer8lCtrtF"
      },
      "outputs": [],
      "source": [
        "X_train, X_test, y_train, y_test = train_test_split(x, y, test_size=0.2,\n",
        "                                                    random_state=42)"
      ]
    },
    {
      "cell_type": "code",
      "execution_count": null,
      "metadata": {
        "id": "5L1GE5zDtrtH"
      },
      "outputs": [],
      "source": [
        "# Inicializo el modelo\n",
        "regresor = RandomForestRegressor(criterion='absolute_error', random_state=42,n_estimators=50)\n",
        "#El valor de n_estimators es de 100"
      ]
    },
    {
      "cell_type": "code",
      "execution_count": null,
      "metadata": {
        "id": "EH8_TkMxf4_O"
      },
      "outputs": [],
      "source": [
        "# Elimino aquellas variables que no quiero incluir en el modelo y las guardo en x.\n",
        "# Keep x as a pandas DataFrame to perform one-hot encoding\n",
        "x = students.drop(['math score', 'reading score', 'writing score', 'puntaje_final'],\n",
        "                  axis=1)\n",
        "\n",
        "lista_atributos = x.columns\n",
        "\n",
        "# Ahora selecciono las etiquetas y las guardo en y.\n",
        "y = students['puntaje_final']\n",
        "\n",
        "# Apply one-hot encoding to categorical columns in x\n",
        "x = pd.get_dummies(x, drop_first=True) # drop_first=True avoids multicollinearity\n",
        "\n",
        "# Now convert to numpy arrays for sklearn compatibility\n",
        "x, y = np.array(x), np.array(y)\n",
        "\n",
        "# Split the data into training and testing sets\n",
        "X_train, X_test, y_train, y_test = train_test_split(x, y, test_size=0.2,\n",
        "                                                    random_state=42)\n",
        "\n",
        "# Update lista_atributos to reflect the new columns after one-hot encoding\n",
        "# This is important for the feature_importance function later\n",
        "lista_atributos = [col for col in range(X_train.shape[1])] # Use column indices for now\n"
      ]
    },
    {
      "cell_type": "code",
      "execution_count": null,
      "metadata": {
        "id": "A1HE79HntrtH"
      },
      "outputs": [],
      "source": [
        "# Entreno el modelo\n",
        "regresor.fit(X_train, y_train);"
      ]
    },
    {
      "cell_type": "code",
      "execution_count": null,
      "metadata": {
        "colab": {
          "base_uri": "https://localhost:8080/"
        },
        "id": "8pQdilCwtrtH",
        "outputId": "971eae39-0ea3-494e-c83a-5ae81eace5c8"
      },
      "outputs": [
        {
          "data": {
            "text/plain": [
              "{'bootstrap': True,\n",
              " 'ccp_alpha': 0.0,\n",
              " 'criterion': 'absolute_error',\n",
              " 'max_depth': None,\n",
              " 'max_features': 1.0,\n",
              " 'max_leaf_nodes': None,\n",
              " 'max_samples': None,\n",
              " 'min_impurity_decrease': 0.0,\n",
              " 'min_samples_leaf': 1,\n",
              " 'min_samples_split': 2,\n",
              " 'min_weight_fraction_leaf': 0.0,\n",
              " 'monotonic_cst': None,\n",
              " 'n_estimators': 50,\n",
              " 'n_jobs': None,\n",
              " 'oob_score': False,\n",
              " 'random_state': 42,\n",
              " 'verbose': 0,\n",
              " 'warm_start': False}"
            ]
          },
          "execution_count": 36,
          "metadata": {},
          "output_type": "execute_result"
        }
      ],
      "source": [
        "regresor.get_params()"
      ]
    },
    {
      "cell_type": "markdown",
      "metadata": {
        "id": "QRnG61KltrtH"
      },
      "source": [
        "Ahora evaluaremos el modelo. Primero, hacemos predicciones para el set de evaluación y luego lo comparamos con los valores reales."
      ]
    },
    {
      "cell_type": "code",
      "execution_count": null,
      "metadata": {
        "id": "od_0uGDKtrtH"
      },
      "outputs": [],
      "source": [
        "# Predigo los valores para el set de testeo\n",
        "y_pred = regresor.predict(X_test)"
      ]
    },
    {
      "cell_type": "code",
      "execution_count": null,
      "metadata": {
        "colab": {
          "base_uri": "https://localhost:8080/"
        },
        "id": "HBJlPxRctrtH",
        "outputId": "71d26683-2e4e-4433-b6eb-31983c9abdc0"
      },
      "outputs": [
        {
          "data": {
            "text/plain": [
              "1.7735499999999984"
            ]
          },
          "execution_count": 38,
          "metadata": {},
          "output_type": "execute_result"
        }
      ],
      "source": [
        "# Calculo el error medio absoluto\n",
        "mean_absolute_error(y_test, y_pred)"
      ]
    },
    {
      "cell_type": "code",
      "execution_count": null,
      "metadata": {
        "colab": {
          "base_uri": "https://localhost:8080/"
        },
        "id": "R2cJAcGGtrtI",
        "outputId": "980bf353-4edb-4810-ed1e-9507177730cd"
      },
      "outputs": [
        {
          "data": {
            "text/plain": [
              "np.float64(3.5597830753624895)"
            ]
          },
          "execution_count": 39,
          "metadata": {},
          "output_type": "execute_result"
        }
      ],
      "source": [
        "# Calculo el error porcentual medio promedio\n",
        "np.mean((np.abs(y_pred - y_test)/y_test)*100)"
      ]
    },
    {
      "cell_type": "code",
      "execution_count": null,
      "metadata": {
        "id": "5_3atrJ_trtI"
      },
      "outputs": [],
      "source": [
        "# Predigo los valores para el set de training\n",
        "y_pred_train = regresor.predict(X_train)"
      ]
    },
    {
      "cell_type": "code",
      "execution_count": null,
      "metadata": {
        "colab": {
          "base_uri": "https://localhost:8080/"
        },
        "id": "e48sjFHAtrtI",
        "outputId": "627ee469-52e3-4e24-915f-bcb53a0e92bd"
      },
      "outputs": [
        {
          "data": {
            "text/plain": [
              "0.7008000000000014"
            ]
          },
          "execution_count": 41,
          "metadata": {},
          "output_type": "execute_result"
        }
      ],
      "source": [
        "mean_absolute_error(y_train, y_pred_train)"
      ]
    },
    {
      "cell_type": "code",
      "execution_count": null,
      "metadata": {
        "colab": {
          "base_uri": "https://localhost:8080/"
        },
        "id": "61cgp-oGtrtI",
        "outputId": "bbe0482c-7d9e-42e5-b2ea-96bb00841148"
      },
      "outputs": [
        {
          "data": {
            "text/plain": [
              "np.float64(1.1132362666864246)"
            ]
          },
          "execution_count": 42,
          "metadata": {},
          "output_type": "execute_result"
        }
      ],
      "source": [
        "# Calculo el error porcentual medio promedio para el entrenamiento\n",
        "np.mean((np.abs(y_train - y_pred_train)/y_train)*100)"
      ]
    },
    {
      "cell_type": "markdown",
      "metadata": {
        "id": "aHnMaULytrtI"
      },
      "source": [
        "Obtenemos la importancia de cada feature usando `feature_importances_`."
      ]
    },
    {
      "cell_type": "code",
      "execution_count": 2,
      "metadata": {
        "colab": {
          "base_uri": "https://localhost:8080/"
        },
        "id": "o6XSCBojtrtI",
        "outputId": "61fed9c4-c68c-4dd6-9607-d2f28b38bc5c"
      },
      "outputs": [
        {
          "ename": "NameError",
          "evalue": "name 'lista_atributos' is not defined",
          "output_type": "error",
          "traceback": [
            "\u001b[31m---------------------------------------------------------------------------\u001b[39m",
            "\u001b[31mNameError\u001b[39m                                 Traceback (most recent call last)",
            "\u001b[36mCell\u001b[39m\u001b[36m \u001b[39m\u001b[32mIn[2]\u001b[39m\u001b[32m, line 1\u001b[39m\n\u001b[32m----> \u001b[39m\u001b[32m1\u001b[39m \u001b[38;5;28;01mfor\u001b[39;00m x, y \u001b[38;5;129;01min\u001b[39;00m \u001b[38;5;28mlist\u001b[39m(\u001b[38;5;28mzip\u001b[39m(\u001b[43mlista_atributos\u001b[49m,regresor.feature_importances_)):\n\u001b[32m      2\u001b[39m     \u001b[38;5;28mprint\u001b[39m(\u001b[33mf\u001b[39m\u001b[33m'\u001b[39m\u001b[33mAtributo: \u001b[39m\u001b[38;5;132;01m{\u001b[39;00mx\u001b[38;5;132;01m}\u001b[39;00m\u001b[33m, Importancia: \u001b[39m\u001b[38;5;132;01m{\u001b[39;00my\u001b[38;5;132;01m}\u001b[39;00m\u001b[33m'\u001b[39m)\n",
            "\u001b[31mNameError\u001b[39m: name 'lista_atributos' is not defined"
          ]
        }
      ],
      "source": [
        "for x, y in list(zip(lista_atributos,regresor.feature_importances_)):\n",
        "    print(f'Atributo: {x}, Importancia: {y}')"
      ]
    },
    {
      "cell_type": "code",
      "execution_count": null,
      "metadata": {
        "id": "fycmI5oBHW0E"
      },
      "outputs": [],
      "source": []
    },
    {
      "cell_type": "markdown",
      "metadata": {
        "id": "_RPXEAERtrtJ"
      },
      "source": [
        "**¿Podemos aceptar un modelo que prediga con un 20% de error?** ¿Qué podemos hacer ahora para mejorar nuestro modelo?"
      ]
    },
    {
      "cell_type": "markdown",
      "metadata": {
        "id": "y1l5y2H0trtK"
      },
      "source": [
        "De manera de hacer una búsqueda, utilizaremos la función [GridSearchCV](https://scikit-learn.org/stable/modules/generated/sklearn.model_selection.GridSearchCV.html)."
      ]
    },
    {
      "cell_type": "markdown",
      "metadata": {
        "id": "IdipS65PtrtJ"
      },
      "source": [
        "Recordemos que utilizamos un algoritmo de regresión, por lo tanto, vamos a usar los error para poder evaluar el desempeño de nuestro modelo. Primero creemos unas funciones que nos permitiran obtener los errores facilmente y graficar los resultados."
      ]
    },
    {
      "cell_type": "code",
      "execution_count": null,
      "metadata": {
        "id": "u-BvioqAtrtJ"
      },
      "outputs": [],
      "source": [
        "def evaluation(y_test, predictions):\n",
        "    \"\"\"\n",
        "    Funcion que devuelve el error absoluto medio y el error porcentual absoluto medio.\n",
        "\n",
        "    :param y_test: valores reales\n",
        "    :param predictions: valores predichos\n",
        "\n",
        "    :return: Devuelve el error absoluto medio y el error porcentual absoluto medio.\n",
        "    \"\"\"\n",
        "    # Calcula mae\n",
        "    mae = mean_absolute_error(y_test, predictions)\n",
        "    #calculate mape\n",
        "    mape = np.mean((np.abs(y_test - predictions)/y_test)*100)\n",
        "    #print calculated values\n",
        "    print(f\"El error absoluto medio para el modelo es {round(mae, 2)}\")\n",
        "    print(f\"El error porcentual absoluto medio para el modelo es {round(mape, 2)}\")"
      ]
    },
    {
      "cell_type": "code",
      "execution_count": null,
      "metadata": {
        "id": "aqamgIKstrtJ"
      },
      "outputs": [],
      "source": [
        "def graph_real_pred(y_test, predictions, color):\n",
        "    \"\"\"\n",
        "    Funcion que grafica los valores reales vs. predichos\n",
        "    :param y_test: valores reales\n",
        "    :param predictions: valores predichos\n",
        "    :param color: color para el plot.\n",
        "\n",
        "    :return: Scatterplot mostrando la relacion entre el valor real y el predicho\n",
        "    \"\"\"\n",
        "    plt.scatter(y_test, predictions, c=color, s=10)\n",
        "    plt.gca().spines['top'].set_visible(False)\n",
        "    plt.gca().spines['bottom'].set_visible(False)\n",
        "    plt.gca().spines['left'].set_visible(False)\n",
        "    plt.gca().spines['right'].set_visible(False)\n",
        "    plt.xlabel('Real', size=15, labelpad=1)\n",
        "    plt.ylabel('Predicted', size=15, labelpad=1)\n",
        "    plt.show()"
      ]
    },
    {
      "cell_type": "code",
      "execution_count": null,
      "metadata": {
        "id": "77wu4Y6ttrtJ"
      },
      "outputs": [],
      "source": [
        "def feature_importance(model, feature_list):\n",
        "    \"\"\"\n",
        "    Function that gets and plots the feature importance\n",
        "    for the given model\n",
        "    :param model: the model to evaluaate\n",
        "    :param feature_list: a list of features contained in the model\n",
        "\n",
        "    :returns a plot with feature importance\n",
        "    \"\"\"\n",
        "    # Obtiene la lista de importancias\n",
        "    importances = list(model.feature_importances_)\n",
        "    # Junta los nombres de los atributos y las importancias\n",
        "    feature_importances = [(feature, round(importance, 2)) for feature, importance in zip(feature_list, importances)]\n",
        "    # Ordena por orden de importancia\n",
        "    feature_importances = sorted(feature_importances, key = lambda x: x[1], reverse = True)\n",
        "    # Print la lista de importancias\n",
        "    [print('Variable: {} Importance: {}'.format(*pair)) for pair in feature_importances];\n",
        "    # Colores\n",
        "    colors = cm.rainbow(np.linspace(0, 1, len(feature_list)))\n",
        "\n",
        "    # Caracteristicas en orden de importancia\n",
        "    characteristics = [x[0] for x in feature_importances]\n",
        "    # Obtiene las importancias\n",
        "    importances_plot = [x[1] for x in feature_importances]\n",
        "    # Grafica un bar plot\n",
        "    plt.bar(characteristics, importances_plot, color=colors)\n",
        "    # Personalizamos el grafico\n",
        "    plt.xticks(list(range(len(characteristics))), characteristics, rotation = 90)\n",
        "    plt.gca().spines['top'].set_visible(False)\n",
        "    plt.gca().spines['bottom'].set_visible(False)\n",
        "    plt.gca().spines['left'].set_visible(False)\n",
        "    plt.gca().spines['right'].set_visible(False)\n",
        "    plt.gcf().subplots_adjust(bottom=0.3);"
      ]
    },
    {
      "cell_type": "code",
      "execution_count": null,
      "metadata": {
        "id": "T72rl1yytrtK"
      },
      "outputs": [],
      "source": [
        "from sklearn.model_selection import GridSearchCV"
      ]
    },
    {
      "cell_type": "code",
      "execution_count": null,
      "metadata": {
        "id": "fIMcNdG9trtK"
      },
      "outputs": [],
      "source": [
        "# Valores para los parametros a optimizar\n",
        "param_grid_rf = {\n",
        "    'criterion': ['absolute_error'],\n",
        "    'n_estimators': [70, 80, 90, 100, 120],\n",
        "    'max_features': ['log2','sqrt'],\n",
        "    'max_depth': [1, 3, 5, 10, 20, 50],\n",
        "    'min_samples_leaf': [1, 3, 5, 10, 20, 50]\n",
        "}"
      ]
    },
    {
      "cell_type": "markdown",
      "metadata": {
        "id": "0Jc56nSwtrtK"
      },
      "source": [
        "```python\n",
        "modelo 1: mae, 70, log2, 1, 1 --> CV=5\n",
        "modelo 2: mae, 80, log2, 1, 1\n",
        "```"
      ]
    },
    {
      "cell_type": "code",
      "execution_count": null,
      "metadata": {
        "id": "IoVfHWpntrtK"
      },
      "outputs": [],
      "source": [
        "# Inicializamos un modelo\n",
        "grid_regresor = RandomForestRegressor(random_state=42)"
      ]
    },
    {
      "cell_type": "code",
      "execution_count": null,
      "metadata": {
        "id": "IVXc7XzjtrtK"
      },
      "outputs": [],
      "source": [
        "# Creamos la busqueda\n",
        "rf_search = GridSearchCV(estimator=grid_regresor, param_grid=param_grid_rf,\n",
        "                         cv=5, scoring='neg_mean_absolute_error', verbose=2, n_jobs=-1)"
      ]
    },
    {
      "cell_type": "code",
      "execution_count": null,
      "metadata": {
        "colab": {
          "base_uri": "https://localhost:8080/"
        },
        "id": "f4R2pZ9ytrtL",
        "outputId": "6087801f-c093-4b41-b47a-34e6bde96805"
      },
      "outputs": [
        {
          "name": "stdout",
          "output_type": "stream",
          "text": [
            "Fitting 5 folds for each of 360 candidates, totalling 1800 fits\n"
          ]
        }
      ],
      "source": [
        "# Corremos el gridsearch con una validación usando 3 folds.\n",
        "rf_search.fit(X_train, y_train)"
      ]
    },
    {
      "cell_type": "markdown",
      "metadata": {
        "id": "sQVKYKpDtrtL"
      },
      "source": [
        "**¿Cuál es nuestro mejor estimador?**"
      ]
    },
    {
      "cell_type": "code",
      "execution_count": null,
      "metadata": {
        "id": "tvsVsxNntrtL"
      },
      "outputs": [],
      "source": [
        "rf_search.best_estimator_"
      ]
    },
    {
      "cell_type": "code",
      "execution_count": null,
      "metadata": {
        "id": "XjYGh8PMtrtL"
      },
      "outputs": [],
      "source": [
        "rf_search.best_params_"
      ]
    },
    {
      "cell_type": "code",
      "execution_count": null,
      "metadata": {
        "id": "RvNmbXcztrtL"
      },
      "outputs": [],
      "source": [
        "rf_search.best_score_"
      ]
    },
    {
      "cell_type": "code",
      "execution_count": null,
      "metadata": {
        "id": "rEBVnT_Glwh1"
      },
      "outputs": [],
      "source": []
    },
    {
      "cell_type": "code",
      "execution_count": null,
      "metadata": {
        "id": "b69YREF_trtL"
      },
      "outputs": [],
      "source": [
        "# Asignamos el mejor estimador a mejor_regresor\n",
        "mejor_regresor = RandomForestRegressor(criterion='absolute_error', n_estimators=70, max_depth=10, max_features='log2', min_samples_leaf=10)"
      ]
    },
    {
      "cell_type": "code",
      "execution_count": null,
      "metadata": {
        "id": "DZmCj0tltrtL"
      },
      "outputs": [],
      "source": [
        "# Entrenamos el modelo\n",
        "mejor_regresor.fit(X_train, y_train)"
      ]
    },
    {
      "cell_type": "code",
      "execution_count": null,
      "metadata": {
        "id": "Ib-JR31dtrtM"
      },
      "outputs": [],
      "source": [
        "# Hacemos la prediccion para el test de evaluación\n",
        "predicciones = mejor_regresor.predict(X_test)"
      ]
    },
    {
      "cell_type": "code",
      "execution_count": null,
      "metadata": {
        "id": "3Ikp4hPstrtM"
      },
      "outputs": [],
      "source": [
        "# Error\n",
        "evaluation(y_test, predicciones)"
      ]
    },
    {
      "cell_type": "code",
      "execution_count": null,
      "metadata": {
        "id": "ShDDZrpXtrtM"
      },
      "outputs": [],
      "source": [
        "# Correlacion\n",
        "graph_real_pred(y_test, predicciones, color='#E67E22')"
      ]
    },
    {
      "cell_type": "code",
      "execution_count": null,
      "metadata": {
        "id": "nWm0ud5-trtM"
      },
      "outputs": [],
      "source": [
        "# Importancia de cada feature\n",
        "feature_importance(mejor_regresor, lista_atributos)"
      ]
    },
    {
      "cell_type": "markdown",
      "metadata": {
        "id": "uqRlN187COSX"
      },
      "source": [
        "## Evaluacion de un modelo de Clasificación"
      ]
    },
    {
      "cell_type": "code",
      "execution_count": null,
      "metadata": {
        "id": "Gc8xM-O_uC1I"
      },
      "outputs": [],
      "source": [
        "# metricas\n",
        "from sklearn.metrics import (\n",
        "    accuracy_score,\n",
        "    confusion_matrix,\n",
        "    precision_score,\n",
        "    recall_score,\n",
        "    f1_score\n",
        ")"
      ]
    },
    {
      "cell_type": "code",
      "execution_count": null,
      "metadata": {
        "id": "NpUJb0VcCNUY"
      },
      "outputs": [],
      "source": [
        "students['aprobado'] = students['puntaje_final'].apply(lambda x: 0 if x < 60 else 1)"
      ]
    },
    {
      "cell_type": "code",
      "execution_count": null,
      "metadata": {
        "id": "RSGiAQjtuC1H"
      },
      "outputs": [],
      "source": [
        "xc = students.drop(['math score', 'reading score', 'writing score', 'puntaje_final', 'aprobado'],\n",
        "                  axis=1)"
      ]
    },
    {
      "cell_type": "code",
      "execution_count": null,
      "metadata": {
        "id": "uJRPvl2OuC1H"
      },
      "outputs": [],
      "source": [
        "yc = students['aprobado']"
      ]
    },
    {
      "cell_type": "code",
      "execution_count": null,
      "metadata": {
        "id": "wjd1sxTVmbiC"
      },
      "outputs": [],
      "source": [
        "# Apply one-hot encoding to categorical columns in xc\n",
        "# drop_first=True avoids multicollinearity\n",
        "xc = pd.get_dummies(xc, drop_first=True)"
      ]
    },
    {
      "cell_type": "code",
      "execution_count": null,
      "metadata": {
        "id": "RwvMJhn6uC1H"
      },
      "outputs": [],
      "source": [
        "xc, yc = np.array(xc), np.array(yc)"
      ]
    },
    {
      "cell_type": "code",
      "execution_count": null,
      "metadata": {
        "id": "mXBt1YyUCZNF"
      },
      "outputs": [],
      "source": [
        "X_train_c, X_test_c, y_train_c, y_test_c = train_test_split(xc, yc, test_size=0.2,\n",
        "                                                    random_state=42)"
      ]
    },
    {
      "cell_type": "code",
      "execution_count": null,
      "metadata": {
        "id": "UR417dgBuC1I"
      },
      "outputs": [],
      "source": [
        "knn = KNeighborsClassifier()"
      ]
    },
    {
      "cell_type": "code",
      "execution_count": null,
      "metadata": {
        "id": "SGc1a-1luC1I"
      },
      "outputs": [],
      "source": [
        "# Entrenamos el modelo\n",
        "knn.fit(X_train_c, y_train_c);"
      ]
    },
    {
      "cell_type": "code",
      "execution_count": null,
      "metadata": {
        "id": "0M8J3wRbuC1I"
      },
      "outputs": [],
      "source": [
        "# Predecimos\n",
        "predicciones_cla = knn.predict(X_test_c)"
      ]
    },
    {
      "cell_type": "code",
      "execution_count": null,
      "metadata": {
        "id": "m0LxAQBmuC1I"
      },
      "outputs": [],
      "source": [
        "predicciones_train = knn.predict(X_train_c)"
      ]
    },
    {
      "cell_type": "code",
      "execution_count": null,
      "metadata": {
        "id": "l6Uwma9GuC1I"
      },
      "outputs": [],
      "source": [
        "accuracy = accuracy_score(y_train_c, predicciones_train)*100\n",
        "print(f'{round(accuracy, 2)}%')"
      ]
    },
    {
      "cell_type": "code",
      "execution_count": null,
      "metadata": {
        "id": "3vRO4QDfuC1J"
      },
      "outputs": [],
      "source": [
        "accuracy = accuracy_score(y_test_c, predicciones_cla)*100\n",
        "print(f'{round(accuracy, 2)}%')"
      ]
    },
    {
      "cell_type": "markdown",
      "metadata": {
        "id": "-XL2SXFGuC1L"
      },
      "source": [
        "**Metricas**\n",
        "\n",
        "Matriz de confusión:\n",
        "\n",
        "True Negative (TN)  |  False positive (FP)   \n",
        "= = = = = = = = = = = = = = = = = = = = =       \n",
        "False negative (FN) | True positive (TP)  \n"
      ]
    },
    {
      "cell_type": "code",
      "execution_count": null,
      "metadata": {
        "id": "axnFJLw0oAWU"
      },
      "outputs": [],
      "source": [
        "# Asignamos el mejor estimador a knn_best\n",
        "knn_best = vecinos_search.best_estimator_\n"
      ]
    },
    {
      "cell_type": "code",
      "execution_count": null,
      "metadata": {
        "id": "MD_56cMsm9ks"
      },
      "outputs": [],
      "source": [
        "# Asigna las predicciones del mejor clasificador KNN a new_predictions\n",
        "# Esto se hace DESPUÉS de correr el GridSearchCV y obtener knn_best\n",
        "new_predictions = knn_best.predict(X_test_c)"
      ]
    },
    {
      "cell_type": "code",
      "execution_count": null,
      "metadata": {
        "id": "vfIuQbrXuC1L"
      },
      "outputs": [],
      "source": [
        "plt.figure()\n",
        "random_confusion = confusion_matrix(y_test_c, new_predictions)\n",
        "sns.heatmap(random_confusion, cmap=\"YlGnBu\",annot=True);"
      ]
    },
    {
      "cell_type": "code",
      "execution_count": null,
      "metadata": {
        "id": "1wR0NCmkuC1M"
      },
      "outputs": [],
      "source": [
        "print(f\"Accuracy: {accuracy_score(y_test_c, predicciones_cla)*100 :.2f}%\")\n",
        "print(f\"Precision: {precision_score(y_test_c, predicciones_cla)*100 :.2f}%\")\n",
        "print(f\"Recall: {recall_score(y_test_c, predicciones_cla)*100 :.2f}%\")\n",
        "print(f\"F1 score: {f1_score(y_test_c, predicciones_cla)*100 :.2f}%\")"
      ]
    },
    {
      "cell_type": "markdown",
      "metadata": {
        "id": "VFwTV6DcCxnS"
      },
      "source": [
        "## Buscando el 'mejor' modelo (Clasificación)"
      ]
    },
    {
      "cell_type": "markdown",
      "metadata": {
        "id": "34sDKv4iuC1J"
      },
      "source": [
        "Ahora vamos a optimizar los parameteros del clasificador kNN. Para eso podemos revisar en la documentación que parametros se pueden [optimizar](https://scikit-learn.org/stable/modules/generated/sklearn.neighbors.KNeighborsClassifier.html)."
      ]
    },
    {
      "cell_type": "markdown",
      "metadata": {
        "id": "18mmPTSLuC1J"
      },
      "source": [
        "Vamos a buscar el mejor k:"
      ]
    },
    {
      "cell_type": "code",
      "execution_count": null,
      "metadata": {
        "id": "l80u1M-SuC1J"
      },
      "outputs": [],
      "source": [
        "####\n",
        "ACC_train = []\n",
        "ACC_test = []\n",
        "vecinos = [1, 3, 5, 10, 15, 20, 25, 30]\n",
        "for n in vecinos:\n",
        "    clf = KNeighborsClassifier(n_neighbors=n)\n",
        "    clf.fit(X_train_c, y_train_c)\n",
        "    y_train_pred = clf.predict(X_train_c)\n",
        "    train_acc = accuracy_score(y_train_c, y_train_pred)\n",
        "    ACC_train.append(train_acc)\n",
        "    y_test_pred = clf.predict(X_test_c)\n",
        "    test_acc = accuracy_score(y_test_c, y_test_pred)\n",
        "    ACC_test.append(test_acc)"
      ]
    },
    {
      "cell_type": "code",
      "execution_count": null,
      "metadata": {
        "id": "0tLr91aHuC1J"
      },
      "outputs": [],
      "source": [
        "plt.plot(vecinos,ACC_train,'o-',label='train', color='#DCE775')\n",
        "plt.plot(vecinos,ACC_test,'o-',label='test', color='#EC407A')\n",
        "plt.legend()"
      ]
    },
    {
      "cell_type": "code",
      "execution_count": null,
      "metadata": {
        "id": "Qz9GFTKGuC1K"
      },
      "outputs": [],
      "source": [
        "# Valores para los parametros a optimizar\n",
        "param_grid_vec = {\n",
        "    'n_neighbors': [18, 20, 22],\n",
        "    'weights': ['uniform','distance'],\n",
        "    'metric': ['euclidean', 'manhattan'],\n",
        "}"
      ]
    },
    {
      "cell_type": "code",
      "execution_count": null,
      "metadata": {
        "id": "WYiIXlcAuC1K"
      },
      "outputs": [],
      "source": [
        "knn_search = KNeighborsClassifier()"
      ]
    },
    {
      "cell_type": "code",
      "execution_count": null,
      "metadata": {
        "id": "kBtzR4CFuC1K"
      },
      "outputs": [],
      "source": [
        "vecinos_search = GridSearchCV(estimator=knn_search, param_grid=param_grid_vec,\n",
        "                         cv=3, verbose=2, n_jobs=-1)"
      ]
    },
    {
      "cell_type": "code",
      "execution_count": null,
      "metadata": {
        "id": "3Uf8RGNKuC1K"
      },
      "outputs": [],
      "source": [
        "vecinos_search.fit(X_train_c, y_train_c)"
      ]
    },
    {
      "cell_type": "markdown",
      "metadata": {
        "id": "fQ3gruc4uC1K"
      },
      "source": [
        "**¿Cuál es nuestro mejor estimador?**"
      ]
    },
    {
      "cell_type": "code",
      "execution_count": null,
      "metadata": {
        "id": "0z3kKFnLuC1K"
      },
      "outputs": [],
      "source": [
        "vecinos_search.best_estimator_"
      ]
    },
    {
      "cell_type": "code",
      "execution_count": null,
      "metadata": {
        "id": "yt6T6aozuC1L"
      },
      "outputs": [],
      "source": [
        "vecinos_search.best_score_"
      ]
    },
    {
      "cell_type": "code",
      "execution_count": null,
      "metadata": {
        "id": "nK9qHxmyuC1L"
      },
      "outputs": [],
      "source": [
        "knn_best = vecinos_search.best_estimator_"
      ]
    },
    {
      "cell_type": "code",
      "execution_count": null,
      "metadata": {
        "id": "T7itI4OsuC1L"
      },
      "outputs": [],
      "source": [
        "knn_best.fit(X_train_c, y_train_c)"
      ]
    },
    {
      "cell_type": "code",
      "execution_count": null,
      "metadata": {
        "id": "IkLAnDQZuC1L"
      },
      "outputs": [],
      "source": [
        "new_predictions = knn_best.predict(X_test_c)"
      ]
    },
    {
      "cell_type": "code",
      "execution_count": null,
      "metadata": {
        "id": "Zwu0I4IEC5Ed"
      },
      "outputs": [],
      "source": [
        "plt.figure()\n",
        "random_confusion = confusion_matrix(y_test_c, new_predictions)\n",
        "sns.heatmap(random_confusion, cmap=\"YlGnBu\",annot=True);"
      ]
    },
    {
      "cell_type": "code",
      "execution_count": null,
      "metadata": {
        "id": "2thRbqSpC5Ed"
      },
      "outputs": [],
      "source": [
        "print(f\"Accuracy: {accuracy_score(y_test_c, new_predictions)*100 :.2f}%\")\n",
        "print(f\"Precision: {precision_score(y_test_c, new_predictions)*100 :.2f}%\")\n",
        "print(f\"Recall: {recall_score(y_test_c, new_predictions)*100 :.2f}%\")\n",
        "print(f\"F1 score: {f1_score(y_test_c, new_predictions)*100 :.2f}%\")"
      ]
    }
  ],
  "metadata": {
    "colab": {
      "provenance": []
    },
    "kernelspec": {
      "display_name": "Python 3",
      "language": "python",
      "name": "python3"
    },
    "language_info": {
      "codemirror_mode": {
        "name": "ipython",
        "version": 3
      },
      "file_extension": ".py",
      "mimetype": "text/x-python",
      "name": "python",
      "nbconvert_exporter": "python",
      "pygments_lexer": "ipython3",
      "version": "3.13.3"
    }
  },
  "nbformat": 4,
  "nbformat_minor": 0
}
